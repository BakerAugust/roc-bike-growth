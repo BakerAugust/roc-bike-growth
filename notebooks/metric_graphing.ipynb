{
 "cells": [
  {
   "cell_type": "code",
   "execution_count": null,
   "metadata": {},
   "outputs": [],
   "source": [
    "import os\n",
    "import json\n",
    "import pandas as pd\n",
    "import matplotlib.pyplot as plt"
   ]
  },
  {
   "cell_type": "code",
   "execution_count": null,
   "metadata": {},
   "outputs": [],
   "source": [
    "with open('output\\original_all_metrics.json', 'r') as f:\n",
    "    data = json.load(f)\n",
    "df = pd.DataFrame(data)\n",
    "df = df[df['route_f'] == 1]\n",
    "df = df.drop('route_f', 1)\n",
    "df.head()"
   ]
  },
  {
   "cell_type": "code",
   "execution_count": null,
   "metadata": {},
   "outputs": [],
   "source": [
    "with open('output\\\\original_all_metrics.json', 'r') as f:\n",
    "    data = json.load(f)\n",
    "    \n",
    "res_density = -1\n",
    "res_component = -1\n",
    "coverage = -1\n",
    "length = -1\n",
    "diectness = -1\n",
    "cohesion = -1\n",
    "global_eff = -1\n",
    "local_eff = -1\n",
    "\n",
    "for setting in data:\n",
    "    res_density = max(res_density, setting['res_density'])\n",
    "    res_component = max(res_component, setting['res_component'])\n",
    "    coverage = max(coverage, setting['coverage'])\n",
    "    length = max(length, setting['length'])\n",
    "    cohesion = max(cohesion, setting['cohesion'])\n",
    "    global_eff = max(global_eff, setting['global_eff'])\n",
    "    local_eff = max(local_eff, setting['local_eff'])\n",
    "    directness = max(directness, setting['directness'])\n",
    "    \n",
    "print(res_density, res_component, coverage, cohesion, global_eff, local_eff, length, directness)"
   ]
  },
  {
   "cell_type": "code",
   "execution_count": null,
   "metadata": {},
   "outputs": [],
   "source": [
    "import pandas as pd\n",
    "import json\n",
    "import plotly.express as px\n",
    "with open('output\\original_all_metrics.json', 'r') as f:\n",
    "    data = json.load(f)\n",
    "\n",
    "for scenario in data:\n",
    "    route_f = scenario['route_f']\n",
    "    prune_f = scenario['prune_f']\n",
    "    \n",
    "    res_density = scenario['res_density']\n",
    "    res_component = scenario['res_component']\n",
    "    coverage = scenario['coverage']\n",
    "    directness = scenario['directness']\n",
    "    length = scenario['length']\n",
    "    cohesion = scenario['cohesion']\n",
    "    global_eff = scenario['global_eff']\n",
    "    local_eff = scenario['local_eff']\n",
    "    \n",
    "    if route_f == 1:\n",
    "        plot_data = pd.DataFrame(dict(\n",
    "            theta = ['resilience (density)','resilience (largest_component)', 'directness', 'coverage','cohesion', 'global efficiency', 'local efficiency', 'length'],\n",
    "            r = [res_density/0.35, res_component/2042, directness, coverage/111, cohesion/1.84, global_eff, local_eff, length/350]\n",
    "        ))\n",
    "        fig = px.line_polar(plot_data, r='r', theta='theta', line_close=True, range_r = [0, 1.0])\n",
    "        fig.write_image(f'output\\images\\{prune_f:2f}_{route_f:2f}.png')"
   ]
  },
  {
   "cell_type": "code",
   "execution_count": null,
   "metadata": {},
   "outputs": [],
   "source": [
    "plt.plot(df['prune_f'], df['directness'])\n",
    "legend = plt.legend(['Directness'])\n",
    "plt.savefig('output\\images\\line_directness.png')"
   ]
  },
  {
   "cell_type": "code",
   "execution_count": null,
   "metadata": {},
   "outputs": [],
   "source": []
  }
 ],
 "metadata": {
  "interpreter": {
   "hash": "c2aa4ef88a60d511689f4f8de835e153dc4058a6f3d8ffa213cd6f60262bac7e"
  },
  "kernelspec": {
   "display_name": "Python 3.10.4 ('ox')",
   "language": "python",
   "name": "python3"
  },
  "language_info": {
   "codemirror_mode": {
    "name": "ipython",
    "version": 3
   },
   "file_extension": ".py",
   "mimetype": "text/x-python",
   "name": "python",
   "nbconvert_exporter": "python",
   "pygments_lexer": "ipython3",
   "version": "3.10.4"
  },
  "orig_nbformat": 4
 },
 "nbformat": 4,
 "nbformat_minor": 2
}
