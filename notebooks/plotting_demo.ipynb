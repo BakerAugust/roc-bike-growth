{
 "cells": [
  {
   "cell_type": "markdown",
   "id": "49d37d91-8d23-4ea4-b099-71f07e599a25",
   "metadata": {},
   "source": [
    "# Plotting demos\n",
    "Demos the plotting functions and some related utility"
   ]
  },
  {
   "cell_type": "code",
   "execution_count": 1,
   "id": "0880f2b4-4ee0-48b9-9033-b0bf5121285a",
   "metadata": {},
   "outputs": [],
   "source": [
    "import osmnx as ox\n",
    "import networkx as nx\n",
    "import numpy as np\n",
    "import pandas as pd\n",
    "import folium\n",
    "import matplotlib.pyplot as plt"
   ]
  },
  {
   "cell_type": "code",
   "execution_count": 2,
   "id": "95a95b33-6e91-4c83-bee8-a2cc07f44107",
   "metadata": {},
   "outputs": [],
   "source": [
    "import os\n",
    "os.chdir('../')"
   ]
  },
  {
   "cell_type": "code",
   "execution_count": 3,
   "id": "76b48c7a-bacc-455c-8e14-82513be8c0b9",
   "metadata": {},
   "outputs": [],
   "source": [
    "from roc_bike_growth.loader import POI_graph_from_polygon, bike_infra_from_polygon, carall_from_polygon\n",
    "from roc_bike_growth.plotting import add_categorical_legend"
   ]
  },
  {
   "cell_type": "code",
   "execution_count": 4,
   "id": "858ab2cd-e42a-4a4c-9cca-d4e376e27479",
   "metadata": {},
   "outputs": [],
   "source": [
    "rochester = ox.geocode_to_gdf('rochester, ny').geometry[0]"
   ]
  },
  {
   "cell_type": "markdown",
   "id": "cbc6f1a9-af52-4a48-bd3b-aea21cdca8d9",
   "metadata": {},
   "source": [
    "## Plot bike infra network by type"
   ]
  },
  {
   "cell_type": "code",
   "execution_count": 5,
   "id": "7e70e6b9-a3aa-49ed-b49e-b7d7ef1e0eb0",
   "metadata": {},
   "outputs": [
    {
     "name": "stdout",
     "output_type": "stream",
     "text": [
      "No OSM data for bike_designatedpath\n",
      "No OSM data for bike_cyclewayrighttrack\n",
      "No OSM data for bike_cyclewaylefttrack\n",
      "No OSM data for bike_cyclestreet\n",
      "No OSM data for bike_bicycleroad\n",
      "No OSM data for bike_livingstreet\n"
     ]
    }
   ],
   "source": [
    "bike_infra = bike_infra_from_polygon(rochester, compose_all=False)"
   ]
  },
  {
   "cell_type": "markdown",
   "id": "21d2d10a-c064-43f3-861e-a0d724ede940",
   "metadata": {},
   "source": [
    "### Interactive map with colors"
   ]
  },
  {
   "cell_type": "code",
   "execution_count": 61,
   "id": "300168f5-ea04-4f77-8ff1-a7808a27d27a",
   "metadata": {},
   "outputs": [],
   "source": [
    "colors = {\n",
    "    'bike_cyclewaylane': '#0e79ca', #  this == \"bike lanes\" bike lanes\n",
    "    'bike_cyclewaytrack': '#c469d8', # cycle track\n",
    "    'bike_highwaycycleway': '#28cf08', # bike blvd -- this == \"trails\"\n",
    "    'bike_designatedpath': '#fcbc2d', # trail == \"shared use / bike blvd\"\n",
    "}"
   ]
  },
  {
   "cell_type": "code",
   "execution_count": 68,
   "id": "9ef26267-9f6e-425e-b31e-651960f87dfb",
   "metadata": {},
   "outputs": [],
   "source": [
    "m = folium.Map(location=[43.15, -77.6750], tiles=\"Stamen Toner\", zoom_start=13)\n",
    "for name, g in bike_infra:\n",
    "    ox.folium.plot_graph_folium(\n",
    "    g,\n",
    "    m, \n",
    "    popup_attribute='name', \n",
    "     **{'color': colors[name]})"
   ]
  },
  {
   "cell_type": "code",
   "execution_count": 69,
   "id": "f29f0888-ba9e-4626-b1c8-edc7d0104491",
   "metadata": {},
   "outputs": [],
   "source": [
    "m = add_categorical_legend(m, 'Infra type', colors.values(), colors.keys())"
   ]
  },
  {
   "cell_type": "markdown",
   "id": "2e2d27e8-2a82-43fc-8052-4980f942812b",
   "metadata": {},
   "source": [
    "### Adding POIs as markers"
   ]
  },
  {
   "cell_type": "code",
   "execution_count": 70,
   "id": "ad3cc66d-3233-49e4-8668-6493b1aa0492",
   "metadata": {},
   "outputs": [],
   "source": [
    "POIs = POI_graph_from_polygon(rochester)"
   ]
  },
  {
   "cell_type": "code",
   "execution_count": 71,
   "id": "61430c5f-f2c2-427f-b1df-6143dacd6225",
   "metadata": {},
   "outputs": [],
   "source": [
    "pois_gdf = ox.utils_graph.graph_to_gdfs(POIs, nodes=True, edges=False)"
   ]
  },
  {
   "cell_type": "code",
   "execution_count": 74,
   "id": "95ce0917-efa9-4a44-a404-032ccf0f68b4",
   "metadata": {},
   "outputs": [],
   "source": [
    "for id, row in pois_gdf.iterrows():\n",
    "    folium.CircleMarker(\n",
    "        location=(row['y'],row['x']),\n",
    "        tooltip=row['name'],\n",
    "        radius=6,\n",
    "        **{'color':'#e07a5f', 'fill':True}\n",
    "    ).add_to(m)\n",
    "    "
   ]
  },
  {
   "cell_type": "code",
   "execution_count": 76,
   "id": "88ed9815-c2af-45ce-a255-46348145d09d",
   "metadata": {},
   "outputs": [],
   "source": [
    "m.save('map.html')"
   ]
  }
 ],
 "metadata": {
  "kernelspec": {
   "display_name": "Python 3 (ipykernel)",
   "language": "python",
   "name": "python3"
  },
  "language_info": {
   "codemirror_mode": {
    "name": "ipython",
    "version": 3
   },
   "file_extension": ".py",
   "mimetype": "text/x-python",
   "name": "python",
   "nbconvert_exporter": "python",
   "pygments_lexer": "ipython3",
   "version": "3.9.7"
  }
 },
 "nbformat": 4,
 "nbformat_minor": 5
}
