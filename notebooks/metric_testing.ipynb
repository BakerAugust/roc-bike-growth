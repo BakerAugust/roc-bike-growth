{
 "cells": [
  {
   "cell_type": "code",
   "execution_count": 1,
   "metadata": {},
   "outputs": [],
   "source": [
    "import osmnx as ox\n",
    "from pprint import pprint\n",
    "import networkx as nx\n",
    "import igraph as ig\n",
    "import os\n",
    "from tqdm.auto import tqdm\n",
    "from collections import deque\n",
    "os.chdir('../')"
   ]
  },
  {
   "cell_type": "markdown",
   "metadata": {},
   "source": [
    "Misc testing"
   ]
  },
  {
   "cell_type": "code",
   "execution_count": 2,
   "metadata": {},
   "outputs": [],
   "source": [
    "from roc_bike_growth.loader import carall_from_polygon, bike_infra_from_polygon"
   ]
  },
  {
   "cell_type": "code",
   "execution_count": 3,
   "metadata": {},
   "outputs": [
    {
     "name": "stderr",
     "output_type": "stream",
     "text": [
      "C:\\Users\\hoang\\miniconda3\\envs\\ox\\lib\\site-packages\\osmnx\\geocoder.py:110: FutureWarning: The frame.append method is deprecated and will be removed from pandas in a future version. Use pandas.concat instead.\n",
      "  gdf = gdf.append(_geocode_query_to_gdf(q, wr, by_osmid))\n"
     ]
    }
   ],
   "source": [
    "rochester = ox.geocode_to_gdf('rochester, ny').geometry[0]\n",
    "# carall = carall_from_polygon(rochester, add_pois=True)\n",
    "bike_infra = bike_infra_from_polygon(rochester)\n",
    "    "
   ]
  },
  {
   "cell_type": "code",
   "execution_count": null,
   "metadata": {},
   "outputs": [],
   "source": [
    "edges = bike_infra.edges()\n",
    "nodes = list(bike_infra.nodes())\n",
    "adjacency_mat = nx.adjacency_matrix(bike_infra)"
   ]
  },
  {
   "cell_type": "code",
   "execution_count": null,
   "metadata": {},
   "outputs": [],
   "source": [
    "print(adjacency_mat.shape)"
   ]
  },
  {
   "cell_type": "code",
   "execution_count": null,
   "metadata": {},
   "outputs": [],
   "source": [
    "running_largest = []\n",
    "G_new = bike_infra.to_undirected(as_view=False)\n",
    "print(len(list(G_new.edges())))\n",
    "edges = list(G_new.edges())\n",
    "\n",
    "for edge in tqdm(edges):\n",
    "    G_new.remove_edge(edge[0], edge[1])\n",
    "    largest_component = max(nx.connected_components(G_new), key=len)\n",
    "    running_largest.append(len(largest_component))\n",
    "    \n",
    "print(running_largest)\n",
    "    \n",
    "    "
   ]
  },
  {
   "cell_type": "markdown",
   "metadata": {},
   "source": [
    "Pipeline"
   ]
  },
  {
   "cell_type": "markdown",
   "metadata": {},
   "source": [
    "metrics self implemented / package"
   ]
  },
  {
   "cell_type": "code",
   "execution_count": 2,
   "metadata": {},
   "outputs": [],
   "source": [
    "\n",
    "def graph_resilience(G, variant = 'density'):\n",
    "    assert variant in ['density', 'largest_component']\n",
    "    if variant == 'density':\n",
    "        return round(nx.density(G)*100, 2)\n",
    "    elif variant == 'largest_component':\n",
    "        G_new = G.to_undirected(as_view=False)\n",
    "        return len(max(nx.connected_components(G_new), key=len))\n",
    "\n",
    "def graph_cohesion(G, coverage):\n",
    "    assert isinstance(coverage, float) \n",
    "    G_new = G.to_undirected(as_view=False)\n",
    "    n_components = nx.number_connected_components(G_new)\n",
    "    return round(coverage / (n_components**1.2 + 0.00001), 2)\n",
    "\n",
    "def graph_global_efficiency(G):\n",
    "    G_new = G.to_undirected(as_view=False)\n",
    "    return nx.algorithms.efficiency_measures.global_efficiency(G_new)\n",
    "\n",
    "def graph_local_efficiency(G):\n",
    "    G_new = G.to_undirected(as_view=False)\n",
    "    return nx.algorithms.efficiency_measures.local_efficiency(G_new)\n"
   ]
  },
  {
   "cell_type": "markdown",
   "metadata": {},
   "source": [
    "metric paper"
   ]
  },
  {
   "cell_type": "code",
   "execution_count": 16,
   "metadata": {},
   "outputs": [],
   "source": [
    "import random\n",
    "from haversine import haversine_vector\n",
    "import itertools\n",
    "import numpy as np\n",
    "import json"
   ]
  },
  {
   "cell_type": "code",
   "execution_count": 4,
   "metadata": {},
   "outputs": [],
   "source": [
    "\n",
    "def dist_vector(v1_list, v2_list):\n",
    "    dist_list = haversine_vector(v1_list, v2_list, unit=\"m\") # [(lat,lon)], [(lat,lon)]\n",
    "    return dist_list\n",
    "\n",
    "def paper_global_efficiency(G, pairs_thresh=500):\n",
    "    # Input is a igraph Graph\n",
    "    try:\n",
    "        G = ig.Graph.from_networkx(nx.Graph(G))\n",
    "    except:\n",
    "        pass\n",
    "    \n",
    "    if G.vcount() > pairs_thresh:\n",
    "        nodeindices = random.sample(list(G.vs.indices), pairs_thresh)\n",
    "    else:\n",
    "        nodeindices = list(G.vs.indices)\n",
    "    \n",
    "    d_ij = G.shortest_paths(source = nodeindices, target = nodeindices)\n",
    "    d_ij = [item for sublist in d_ij for item in sublist] # flatten\n",
    "    EG  = sum([1/d for d in d_ij if d != 0])\n",
    "    pairs = list(itertools.permutations(nodeindices, 2))\n",
    "    l_ij = dist_vector([(G.vs[p[0]][\"y\"], G.vs[p[0]][\"x\"]) for p in pairs],\n",
    "                            [(G.vs[p[1]][\"y\"], G.vs[p[1]][\"x\"]) for p in pairs]) # must be in format lat,lon = y,x\n",
    "    EG_id = sum([1/l for l in l_ij if l != 0])\n",
    "    \n",
    "    return round(EG / EG_id, 2)"
   ]
  },
  {
   "cell_type": "code",
   "execution_count": 11,
   "metadata": {},
   "outputs": [],
   "source": [
    "def paper_local_efficiency(G, numnodepairs=500):\n",
    "    # Input is a igraph Graph\n",
    "    try:\n",
    "        G = ig.Graph.from_networkx(nx.Graph(G))\n",
    "    except:\n",
    "        pass\n",
    "    \n",
    "    if G.vcount() > numnodepairs:\n",
    "        nodeindices = random.sample(list(G.vs.indices), numnodepairs)\n",
    "    else:\n",
    "        nodeindices = list(G.vs.indices)\n",
    "    EGi = []\n",
    "    for i in nodeindices:\n",
    "        if len(G.neighbors(i)) > 1: # If we have a nontrivial neighborhood\n",
    "            G_induced = G.induced_subgraph(G.neighbors(i))\n",
    "            EGi.append(paper_global_efficiency(G_induced, numnodepairs))\n",
    "    EGi = sum(EGi) / len(EGi)\n",
    "    \n",
    "    return round(EGi, 2)"
   ]
  },
  {
   "cell_type": "code",
   "execution_count": 12,
   "metadata": {},
   "outputs": [],
   "source": [
    "import pyproj\n",
    "from shapely import ops\n",
    "from shapely.geometry import Polygon, LineString\n",
    "import copy\n",
    "\n",
    "def paper_coverage(G):\n",
    "    G = ig.Graph.from_networkx(nx.Graph(G))\n",
    "    G_added = copy.deepcopy(G)\n",
    "    \n",
    "    # https://gis.stackexchange.com/questions/121256/creating-a-circle-with-radius-in-metres\n",
    "    longitudes = [v[\"x\"] for v in G.vs]\n",
    "    loncenter = sum(longitudes) / (len(longitudes) + 0.0001)\n",
    "    latitudes = [v[\"y\"] for v in G.vs]\n",
    "    latcenter = sum(latitudes) / (len(latitudes) + 0.0001)\n",
    "    local_azimuthal_projection = \"+proj=aeqd +R=6371000 +units=m +lat_0={} +lon_0={}\".format(latcenter, loncenter)\n",
    "    \n",
    "    # Use transformer: https://gis.stackexchange.com/questions/127427/transforming-shapely-polygon-and-multipolygon-objects\n",
    "    wgs84_to_aeqd = pyproj.Transformer.from_proj(\n",
    "        pyproj.Proj(\"+proj=longlat +datum=WGS84 +no_defs\"),\n",
    "        pyproj.Proj(local_azimuthal_projection))\n",
    "    aeqd_to_wgs84 = pyproj.Transformer.from_proj(\n",
    "        pyproj.Proj(local_azimuthal_projection),\n",
    "        pyproj.Proj(\"+proj=longlat +datum=WGS84 +no_defs\"))\n",
    "    edgetuples = [((e.source_vertex[\"x\"], e.source_vertex[\"y\"]), (e.target_vertex[\"x\"], e.target_vertex[\"y\"])) for e in G_added.es]\n",
    "    \n",
    "    # # Shapely buffer seems slow for complex objects: https://stackoverflow.com/questions/57753813/speed-up-shapely-buffer\n",
    "    # # Therefore we buffer piecewise.\n",
    "    cov_added = Polygon()\n",
    "    for c, t in enumerate(edgetuples):\n",
    "        buf = ops.transform(aeqd_to_wgs84.transform, ops.transform(wgs84_to_aeqd.transform, LineString(t)).buffer(500))\n",
    "        cov_added = ops.unary_union([cov_added, Polygon(buf)])\n",
    "\n",
    "    cov_transformed = ops.transform(wgs84_to_aeqd.transform, cov_added)\n",
    "    covered_area = cov_transformed.area / 1000000 # turn from m2 to km2\n",
    "\n",
    "    return covered_area"
   ]
  },
  {
   "cell_type": "code",
   "execution_count": 7,
   "metadata": {},
   "outputs": [],
   "source": [
    "import osmnx as ox\n",
    "import networkx as nx\n",
    "import igraph as ig\n",
    "import pandas as pd\n",
    "import plotly.express as px\n",
    "\n",
    "from roc_bike_growth.loader import POI_graph_from_polygon, bike_infra_from_polygon, carall_from_polygon\n",
    "from roc_bike_growth.paper_gt import gt_with_existing_full\n",
    "\n",
    "class BikeGraph:\n",
    "    def __init__(self, prune_factor=0.1, route_factor=1):\n",
    "        self.prune_factor = prune_factor\n",
    "        self.route_factor = route_factor\n",
    "        car_infra, bike_infra = self.get_data()\n",
    "        self.bike_graph = self.merge_and_gt(car_infra, bike_infra)\n",
    "        \n",
    "    def get_data(self):\n",
    "        rochester = ox.geocode_to_gdf('rochester, ny').geometry[0]\n",
    "        bike_infra = bike_infra_from_polygon(rochester)\n",
    "        car_infra = carall_from_polygon(rochester, add_pois=True)\n",
    "        \n",
    "        return car_infra, bike_infra\n",
    "    \n",
    "    def merge_and_gt(self, car_infra, bike_infra):\n",
    "        return gt_with_existing_full(car_infra, bike_infra, self.route_factor, self.prune_factor)\n",
    "    \n",
    "    def plot_graph(self, add_pois=False):\n",
    "        fig, ax = ox.plot.plot_graph(self.bike_graph)\n",
    "        # Plot POIs on graph\n",
    "        if add_pois:\n",
    "            x, y = [], []\n",
    "            pois = nx.get_node_attributes(self.bike_graph, 'poi').keys()\n",
    "            for node in pois:\n",
    "                d = self.bike_graph.nodes()[node]\n",
    "                x.append(d['x'])\n",
    "                y.append(d['y'])\n",
    "            ax.scatter(x,y)\n",
    "            fig\n",
    "    \n",
    "    def display_final_metrics(self):\n",
    "        res_density = graph_resilience(self.bike_graph, 'density')\n",
    "        res_component = graph_resilience(self.bike_graph, 'largest_component')\n",
    "        coverage = paper_coverage(self.bike_graph)\n",
    "        cohesion = graph_cohesion(self.bike_graph, coverage)\n",
    "        global_eff = paper_global_efficiency(self.bike_graph)\n",
    "        local_eff = paper_local_efficiency(self.bike_graph)\n",
    "                \n",
    "        plot_data = pd.DataFrame(dict(\n",
    "           theta = ['resilience (density)','resilience (largest_component)','coverage','cohesion', 'global efficiency', 'local efficiency'],\n",
    "           r = [res_density, res_component, coverage, cohesion, global_eff, local_eff]\n",
    "        ))\n",
    "        fig = px.line_polar(plot_data, r='r', theta='theta', line_close=True)\n",
    "        fig.show()\n",
    "        \n",
    "        "
   ]
  },
  {
   "cell_type": "code",
   "execution_count": 9,
   "metadata": {},
   "outputs": [
    {
     "name": "stderr",
     "output_type": "stream",
     "text": [
      "C:\\Users\\hoang\\miniconda3\\envs\\ox\\lib\\site-packages\\osmnx\\geocoder.py:110: FutureWarning: The frame.append method is deprecated and will be removed from pandas in a future version. Use pandas.concat instead.\n",
      "  gdf = gdf.append(_geocode_query_to_gdf(q, wr, by_osmid))\n"
     ]
    },
    {
     "name": "stdout",
     "output_type": "stream",
     "text": [
      "Exception at Port of Rochester, Lake Ave . This point will be dropped:\n",
      " Nominatim could not geocode query \"Port of Rochester, Lake Ave  rochester ny\"\n",
      "Exception at 810-846 N GOODMAN ST. This point will be dropped:\n",
      " Nominatim could not geocode query \"810-846 N GOODMAN ST rochester ny\"\n",
      "Exception at 650-672 E Main St. This point will be dropped:\n",
      " Nominatim could not geocode query \"650-672 E Main St rochester ny\"\n",
      "Exception at 497-499 S. CLINTON. This point will be dropped:\n",
      " Nominatim could not geocode query \"497-499 S. CLINTON rochester ny\"\n"
     ]
    },
    {
     "name": "stderr",
     "output_type": "stream",
     "text": [
      "d:\\work\\grad\\y1s2\\capstone\\project\\roc-bike-growth\\roc_bike_growth\\paper_gt.py:23: RuntimeWarning: Couldn't reach some vertices at src/paths/unweighted.c:368\n",
      "  poi_nodes.append(G.get_shortest_paths(v, pois_indices[c:], output=\"vpath\"))\n",
      "d:\\work\\grad\\y1s2\\capstone\\project\\roc-bike-growth\\roc_bike_growth\\paper_gt.py:24: RuntimeWarning: Couldn't reach some vertices at src/paths/unweighted.c:368\n",
      "  poi_edges.append(G.get_shortest_paths(v, pois_indices[c:], output=\"epath\"))\n"
     ]
    }
   ],
   "source": [
    "roc_bike_graph = BikeGraph(prune_factor=1, route_factor=1)"
   ]
  },
  {
   "cell_type": "code",
   "execution_count": null,
   "metadata": {},
   "outputs": [],
   "source": [
    "roc_bike_graph.display_final_metrics()"
   ]
  },
  {
   "cell_type": "code",
   "execution_count": null,
   "metadata": {},
   "outputs": [],
   "source": [
    "roc_bike_graph.plot_graph()"
   ]
  },
  {
   "cell_type": "code",
   "execution_count": 13,
   "metadata": {},
   "outputs": [
    {
     "name": "stdout",
     "output_type": "stream",
     "text": [
      "0.11 1795 108.02641503884439 1.69 87.86 2.59\n"
     ]
    }
   ],
   "source": [
    "res_density = graph_resilience(roc_bike_graph.bike_graph, 'density')\n",
    "res_component = graph_resilience(roc_bike_graph.bike_graph, 'largest_component')\n",
    "coverage = paper_coverage(roc_bike_graph.bike_graph)\n",
    "cohesion = graph_cohesion(roc_bike_graph.bike_graph, coverage)\n",
    "global_eff = paper_global_efficiency(roc_bike_graph.bike_graph)\n",
    "local_eff = paper_local_efficiency(roc_bike_graph.bike_graph)\n",
    "\n",
    "print(res_density, res_component, coverage, cohesion, global_eff, local_eff)\n",
    "\n",
    "# plot_data = pd.DataFrame(dict(\n",
    "#     theta = ['resilience (density)','resilience (largest_component)','coverage','cohesion', 'global efficiency', 'local efficiency'],\n",
    "#     r = [res_density, res_component / 286, coverage/100, cohesion, global_eff/100, local_eff/100]\n",
    "# ))\n",
    "# fig = px.line_polar(plot_data, r='r', theta='theta', line_close=True)\n",
    "# fig.show()"
   ]
  },
  {
   "cell_type": "code",
   "execution_count": 18,
   "metadata": {},
   "outputs": [
    {
     "name": "stderr",
     "output_type": "stream",
     "text": [
      "  0%|          | 0/9 [00:00<?, ?it/s]C:\\Users\\hoang\\miniconda3\\envs\\ox\\lib\\site-packages\\osmnx\\geocoder.py:110: FutureWarning: The frame.append method is deprecated and will be removed from pandas in a future version. Use pandas.concat instead.\n",
      "  gdf = gdf.append(_geocode_query_to_gdf(q, wr, by_osmid))\n"
     ]
    },
    {
     "name": "stdout",
     "output_type": "stream",
     "text": [
      "Exception at Port of Rochester, Lake Ave . This point will be dropped:\n",
      " Nominatim could not geocode query \"Port of Rochester, Lake Ave  rochester ny\"\n",
      "Exception at 810-846 N GOODMAN ST. This point will be dropped:\n",
      " Nominatim could not geocode query \"810-846 N GOODMAN ST rochester ny\"\n",
      "Exception at 650-672 E Main St. This point will be dropped:\n",
      " Nominatim could not geocode query \"650-672 E Main St rochester ny\"\n",
      "Exception at 497-499 S. CLINTON. This point will be dropped:\n",
      " Nominatim could not geocode query \"497-499 S. CLINTON rochester ny\"\n"
     ]
    },
    {
     "name": "stderr",
     "output_type": "stream",
     "text": [
      "d:\\work\\grad\\y1s2\\capstone\\project\\roc-bike-growth\\roc_bike_growth\\paper_gt.py:23: RuntimeWarning: Couldn't reach some vertices at src/paths/unweighted.c:368\n",
      "  poi_nodes.append(G.get_shortest_paths(v, pois_indices[c:], output=\"vpath\"))\n",
      "d:\\work\\grad\\y1s2\\capstone\\project\\roc-bike-growth\\roc_bike_growth\\paper_gt.py:24: RuntimeWarning: Couldn't reach some vertices at src/paths/unweighted.c:368\n",
      "  poi_edges.append(G.get_shortest_paths(v, pois_indices[c:], output=\"epath\"))\n",
      "C:\\Users\\hoang\\miniconda3\\envs\\ox\\lib\\site-packages\\osmnx\\geocoder.py:110: FutureWarning: The frame.append method is deprecated and will be removed from pandas in a future version. Use pandas.concat instead.\n",
      "  gdf = gdf.append(_geocode_query_to_gdf(q, wr, by_osmid))\n"
     ]
    },
    {
     "name": "stdout",
     "output_type": "stream",
     "text": [
      "Exception at Port of Rochester, Lake Ave . This point will be dropped:\n",
      " Nominatim could not geocode query \"Port of Rochester, Lake Ave  rochester ny\"\n",
      "Exception at 810-846 N GOODMAN ST. This point will be dropped:\n",
      " Nominatim could not geocode query \"810-846 N GOODMAN ST rochester ny\"\n",
      "Exception at 650-672 E Main St. This point will be dropped:\n",
      " Nominatim could not geocode query \"650-672 E Main St rochester ny\"\n",
      "Exception at 497-499 S. CLINTON. This point will be dropped:\n",
      " Nominatim could not geocode query \"497-499 S. CLINTON rochester ny\"\n"
     ]
    },
    {
     "name": "stderr",
     "output_type": "stream",
     "text": [
      "d:\\work\\grad\\y1s2\\capstone\\project\\roc-bike-growth\\roc_bike_growth\\paper_gt.py:23: RuntimeWarning: Couldn't reach some vertices at src/paths/unweighted.c:368\n",
      "  poi_nodes.append(G.get_shortest_paths(v, pois_indices[c:], output=\"vpath\"))\n",
      "d:\\work\\grad\\y1s2\\capstone\\project\\roc-bike-growth\\roc_bike_growth\\paper_gt.py:24: RuntimeWarning: Couldn't reach some vertices at src/paths/unweighted.c:368\n",
      "  poi_edges.append(G.get_shortest_paths(v, pois_indices[c:], output=\"epath\"))\n",
      "C:\\Users\\hoang\\miniconda3\\envs\\ox\\lib\\site-packages\\osmnx\\geocoder.py:110: FutureWarning: The frame.append method is deprecated and will be removed from pandas in a future version. Use pandas.concat instead.\n",
      "  gdf = gdf.append(_geocode_query_to_gdf(q, wr, by_osmid))\n"
     ]
    },
    {
     "name": "stdout",
     "output_type": "stream",
     "text": [
      "Exception at Port of Rochester, Lake Ave . This point will be dropped:\n",
      " Nominatim could not geocode query \"Port of Rochester, Lake Ave  rochester ny\"\n",
      "Exception at 810-846 N GOODMAN ST. This point will be dropped:\n",
      " Nominatim could not geocode query \"810-846 N GOODMAN ST rochester ny\"\n",
      "Exception at 650-672 E Main St. This point will be dropped:\n",
      " Nominatim could not geocode query \"650-672 E Main St rochester ny\"\n",
      "Exception at 497-499 S. CLINTON. This point will be dropped:\n",
      " Nominatim could not geocode query \"497-499 S. CLINTON rochester ny\"\n"
     ]
    },
    {
     "name": "stderr",
     "output_type": "stream",
     "text": [
      "d:\\work\\grad\\y1s2\\capstone\\project\\roc-bike-growth\\roc_bike_growth\\paper_gt.py:23: RuntimeWarning: Couldn't reach some vertices at src/paths/unweighted.c:368\n",
      "  poi_nodes.append(G.get_shortest_paths(v, pois_indices[c:], output=\"vpath\"))\n",
      "d:\\work\\grad\\y1s2\\capstone\\project\\roc-bike-growth\\roc_bike_growth\\paper_gt.py:24: RuntimeWarning: Couldn't reach some vertices at src/paths/unweighted.c:368\n",
      "  poi_edges.append(G.get_shortest_paths(v, pois_indices[c:], output=\"epath\"))\n",
      "C:\\Users\\hoang\\miniconda3\\envs\\ox\\lib\\site-packages\\osmnx\\geocoder.py:110: FutureWarning: The frame.append method is deprecated and will be removed from pandas in a future version. Use pandas.concat instead.\n",
      "  gdf = gdf.append(_geocode_query_to_gdf(q, wr, by_osmid))\n"
     ]
    },
    {
     "name": "stdout",
     "output_type": "stream",
     "text": [
      "Exception at Port of Rochester, Lake Ave . This point will be dropped:\n",
      " Nominatim could not geocode query \"Port of Rochester, Lake Ave  rochester ny\"\n",
      "Exception at 810-846 N GOODMAN ST. This point will be dropped:\n",
      " Nominatim could not geocode query \"810-846 N GOODMAN ST rochester ny\"\n",
      "Exception at 650-672 E Main St. This point will be dropped:\n",
      " Nominatim could not geocode query \"650-672 E Main St rochester ny\"\n",
      "Exception at 497-499 S. CLINTON. This point will be dropped:\n",
      " Nominatim could not geocode query \"497-499 S. CLINTON rochester ny\"\n"
     ]
    },
    {
     "name": "stderr",
     "output_type": "stream",
     "text": [
      "d:\\work\\grad\\y1s2\\capstone\\project\\roc-bike-growth\\roc_bike_growth\\paper_gt.py:23: RuntimeWarning: Couldn't reach some vertices at src/paths/unweighted.c:368\n",
      "  poi_nodes.append(G.get_shortest_paths(v, pois_indices[c:], output=\"vpath\"))\n",
      "d:\\work\\grad\\y1s2\\capstone\\project\\roc-bike-growth\\roc_bike_growth\\paper_gt.py:24: RuntimeWarning: Couldn't reach some vertices at src/paths/unweighted.c:368\n",
      "  poi_edges.append(G.get_shortest_paths(v, pois_indices[c:], output=\"epath\"))\n",
      "C:\\Users\\hoang\\miniconda3\\envs\\ox\\lib\\site-packages\\osmnx\\geocoder.py:110: FutureWarning: The frame.append method is deprecated and will be removed from pandas in a future version. Use pandas.concat instead.\n",
      "  gdf = gdf.append(_geocode_query_to_gdf(q, wr, by_osmid))\n"
     ]
    },
    {
     "name": "stdout",
     "output_type": "stream",
     "text": [
      "Exception at Port of Rochester, Lake Ave . This point will be dropped:\n",
      " Nominatim could not geocode query \"Port of Rochester, Lake Ave  rochester ny\"\n",
      "Exception at 810-846 N GOODMAN ST. This point will be dropped:\n",
      " Nominatim could not geocode query \"810-846 N GOODMAN ST rochester ny\"\n",
      "Exception at 650-672 E Main St. This point will be dropped:\n",
      " Nominatim could not geocode query \"650-672 E Main St rochester ny\"\n",
      "Exception at 497-499 S. CLINTON. This point will be dropped:\n",
      " Nominatim could not geocode query \"497-499 S. CLINTON rochester ny\"\n"
     ]
    },
    {
     "name": "stderr",
     "output_type": "stream",
     "text": [
      "d:\\work\\grad\\y1s2\\capstone\\project\\roc-bike-growth\\roc_bike_growth\\paper_gt.py:23: RuntimeWarning: Couldn't reach some vertices at src/paths/unweighted.c:368\n",
      "  poi_nodes.append(G.get_shortest_paths(v, pois_indices[c:], output=\"vpath\"))\n",
      "d:\\work\\grad\\y1s2\\capstone\\project\\roc-bike-growth\\roc_bike_growth\\paper_gt.py:24: RuntimeWarning: Couldn't reach some vertices at src/paths/unweighted.c:368\n",
      "  poi_edges.append(G.get_shortest_paths(v, pois_indices[c:], output=\"epath\"))\n",
      "C:\\Users\\hoang\\miniconda3\\envs\\ox\\lib\\site-packages\\osmnx\\geocoder.py:110: FutureWarning: The frame.append method is deprecated and will be removed from pandas in a future version. Use pandas.concat instead.\n",
      "  gdf = gdf.append(_geocode_query_to_gdf(q, wr, by_osmid))\n"
     ]
    },
    {
     "name": "stdout",
     "output_type": "stream",
     "text": [
      "Exception at Port of Rochester, Lake Ave . This point will be dropped:\n",
      " Nominatim could not geocode query \"Port of Rochester, Lake Ave  rochester ny\"\n",
      "Exception at 810-846 N GOODMAN ST. This point will be dropped:\n",
      " Nominatim could not geocode query \"810-846 N GOODMAN ST rochester ny\"\n",
      "Exception at 650-672 E Main St. This point will be dropped:\n",
      " Nominatim could not geocode query \"650-672 E Main St rochester ny\"\n",
      "Exception at 497-499 S. CLINTON. This point will be dropped:\n",
      " Nominatim could not geocode query \"497-499 S. CLINTON rochester ny\"\n"
     ]
    },
    {
     "name": "stderr",
     "output_type": "stream",
     "text": [
      "d:\\work\\grad\\y1s2\\capstone\\project\\roc-bike-growth\\roc_bike_growth\\paper_gt.py:23: RuntimeWarning: Couldn't reach some vertices at src/paths/unweighted.c:368\n",
      "  poi_nodes.append(G.get_shortest_paths(v, pois_indices[c:], output=\"vpath\"))\n",
      "d:\\work\\grad\\y1s2\\capstone\\project\\roc-bike-growth\\roc_bike_growth\\paper_gt.py:24: RuntimeWarning: Couldn't reach some vertices at src/paths/unweighted.c:368\n",
      "  poi_edges.append(G.get_shortest_paths(v, pois_indices[c:], output=\"epath\"))\n",
      "C:\\Users\\hoang\\miniconda3\\envs\\ox\\lib\\site-packages\\osmnx\\geocoder.py:110: FutureWarning: The frame.append method is deprecated and will be removed from pandas in a future version. Use pandas.concat instead.\n",
      "  gdf = gdf.append(_geocode_query_to_gdf(q, wr, by_osmid))\n"
     ]
    },
    {
     "name": "stdout",
     "output_type": "stream",
     "text": [
      "Exception at Port of Rochester, Lake Ave . This point will be dropped:\n",
      " Nominatim could not geocode query \"Port of Rochester, Lake Ave  rochester ny\"\n",
      "Exception at 810-846 N GOODMAN ST. This point will be dropped:\n",
      " Nominatim could not geocode query \"810-846 N GOODMAN ST rochester ny\"\n",
      "Exception at 650-672 E Main St. This point will be dropped:\n",
      " Nominatim could not geocode query \"650-672 E Main St rochester ny\"\n",
      "Exception at 497-499 S. CLINTON. This point will be dropped:\n",
      " Nominatim could not geocode query \"497-499 S. CLINTON rochester ny\"\n"
     ]
    },
    {
     "name": "stderr",
     "output_type": "stream",
     "text": [
      "d:\\work\\grad\\y1s2\\capstone\\project\\roc-bike-growth\\roc_bike_growth\\paper_gt.py:23: RuntimeWarning: Couldn't reach some vertices at src/paths/unweighted.c:368\n",
      "  poi_nodes.append(G.get_shortest_paths(v, pois_indices[c:], output=\"vpath\"))\n",
      "d:\\work\\grad\\y1s2\\capstone\\project\\roc-bike-growth\\roc_bike_growth\\paper_gt.py:24: RuntimeWarning: Couldn't reach some vertices at src/paths/unweighted.c:368\n",
      "  poi_edges.append(G.get_shortest_paths(v, pois_indices[c:], output=\"epath\"))\n",
      "C:\\Users\\hoang\\miniconda3\\envs\\ox\\lib\\site-packages\\osmnx\\geocoder.py:110: FutureWarning: The frame.append method is deprecated and will be removed from pandas in a future version. Use pandas.concat instead.\n",
      "  gdf = gdf.append(_geocode_query_to_gdf(q, wr, by_osmid))\n"
     ]
    },
    {
     "name": "stdout",
     "output_type": "stream",
     "text": [
      "Exception at Port of Rochester, Lake Ave . This point will be dropped:\n",
      " Nominatim could not geocode query \"Port of Rochester, Lake Ave  rochester ny\"\n",
      "Exception at 810-846 N GOODMAN ST. This point will be dropped:\n",
      " Nominatim could not geocode query \"810-846 N GOODMAN ST rochester ny\"\n",
      "Exception at 650-672 E Main St. This point will be dropped:\n",
      " Nominatim could not geocode query \"650-672 E Main St rochester ny\"\n",
      "Exception at 497-499 S. CLINTON. This point will be dropped:\n",
      " Nominatim could not geocode query \"497-499 S. CLINTON rochester ny\"\n"
     ]
    },
    {
     "name": "stderr",
     "output_type": "stream",
     "text": [
      "d:\\work\\grad\\y1s2\\capstone\\project\\roc-bike-growth\\roc_bike_growth\\paper_gt.py:23: RuntimeWarning: Couldn't reach some vertices at src/paths/unweighted.c:368\n",
      "  poi_nodes.append(G.get_shortest_paths(v, pois_indices[c:], output=\"vpath\"))\n",
      "d:\\work\\grad\\y1s2\\capstone\\project\\roc-bike-growth\\roc_bike_growth\\paper_gt.py:24: RuntimeWarning: Couldn't reach some vertices at src/paths/unweighted.c:368\n",
      "  poi_edges.append(G.get_shortest_paths(v, pois_indices[c:], output=\"epath\"))\n",
      "C:\\Users\\hoang\\miniconda3\\envs\\ox\\lib\\site-packages\\osmnx\\geocoder.py:110: FutureWarning: The frame.append method is deprecated and will be removed from pandas in a future version. Use pandas.concat instead.\n",
      "  gdf = gdf.append(_geocode_query_to_gdf(q, wr, by_osmid))\n"
     ]
    },
    {
     "name": "stdout",
     "output_type": "stream",
     "text": [
      "Exception at Port of Rochester, Lake Ave . This point will be dropped:\n",
      " Nominatim could not geocode query \"Port of Rochester, Lake Ave  rochester ny\"\n",
      "Exception at 810-846 N GOODMAN ST. This point will be dropped:\n",
      " Nominatim could not geocode query \"810-846 N GOODMAN ST rochester ny\"\n",
      "Exception at 650-672 E Main St. This point will be dropped:\n",
      " Nominatim could not geocode query \"650-672 E Main St rochester ny\"\n",
      "Exception at 497-499 S. CLINTON. This point will be dropped:\n",
      " Nominatim could not geocode query \"497-499 S. CLINTON rochester ny\"\n"
     ]
    },
    {
     "name": "stderr",
     "output_type": "stream",
     "text": [
      "d:\\work\\grad\\y1s2\\capstone\\project\\roc-bike-growth\\roc_bike_growth\\paper_gt.py:23: RuntimeWarning: Couldn't reach some vertices at src/paths/unweighted.c:368\n",
      "  poi_nodes.append(G.get_shortest_paths(v, pois_indices[c:], output=\"vpath\"))\n",
      "d:\\work\\grad\\y1s2\\capstone\\project\\roc-bike-growth\\roc_bike_growth\\paper_gt.py:24: RuntimeWarning: Couldn't reach some vertices at src/paths/unweighted.c:368\n",
      "  poi_edges.append(G.get_shortest_paths(v, pois_indices[c:], output=\"epath\"))\n",
      " 11%|█         | 1/9 [03:00<24:05, 180.73s/it]C:\\Users\\hoang\\miniconda3\\envs\\ox\\lib\\site-packages\\osmnx\\geocoder.py:110: FutureWarning: The frame.append method is deprecated and will be removed from pandas in a future version. Use pandas.concat instead.\n",
      "  gdf = gdf.append(_geocode_query_to_gdf(q, wr, by_osmid))\n"
     ]
    },
    {
     "name": "stdout",
     "output_type": "stream",
     "text": [
      "Exception at Port of Rochester, Lake Ave . This point will be dropped:\n",
      " Nominatim could not geocode query \"Port of Rochester, Lake Ave  rochester ny\"\n",
      "Exception at 810-846 N GOODMAN ST. This point will be dropped:\n",
      " Nominatim could not geocode query \"810-846 N GOODMAN ST rochester ny\"\n",
      "Exception at 650-672 E Main St. This point will be dropped:\n",
      " Nominatim could not geocode query \"650-672 E Main St rochester ny\"\n",
      "Exception at 497-499 S. CLINTON. This point will be dropped:\n",
      " Nominatim could not geocode query \"497-499 S. CLINTON rochester ny\"\n"
     ]
    },
    {
     "name": "stderr",
     "output_type": "stream",
     "text": [
      "d:\\work\\grad\\y1s2\\capstone\\project\\roc-bike-growth\\roc_bike_growth\\paper_gt.py:23: RuntimeWarning: Couldn't reach some vertices at src/paths/unweighted.c:368\n",
      "  poi_nodes.append(G.get_shortest_paths(v, pois_indices[c:], output=\"vpath\"))\n",
      "d:\\work\\grad\\y1s2\\capstone\\project\\roc-bike-growth\\roc_bike_growth\\paper_gt.py:24: RuntimeWarning: Couldn't reach some vertices at src/paths/unweighted.c:368\n",
      "  poi_edges.append(G.get_shortest_paths(v, pois_indices[c:], output=\"epath\"))\n",
      "C:\\Users\\hoang\\miniconda3\\envs\\ox\\lib\\site-packages\\osmnx\\geocoder.py:110: FutureWarning: The frame.append method is deprecated and will be removed from pandas in a future version. Use pandas.concat instead.\n",
      "  gdf = gdf.append(_geocode_query_to_gdf(q, wr, by_osmid))\n"
     ]
    },
    {
     "name": "stdout",
     "output_type": "stream",
     "text": [
      "Exception at Port of Rochester, Lake Ave . This point will be dropped:\n",
      " Nominatim could not geocode query \"Port of Rochester, Lake Ave  rochester ny\"\n",
      "Exception at 810-846 N GOODMAN ST. This point will be dropped:\n",
      " Nominatim could not geocode query \"810-846 N GOODMAN ST rochester ny\"\n",
      "Exception at 650-672 E Main St. This point will be dropped:\n",
      " Nominatim could not geocode query \"650-672 E Main St rochester ny\"\n",
      "Exception at 497-499 S. CLINTON. This point will be dropped:\n",
      " Nominatim could not geocode query \"497-499 S. CLINTON rochester ny\"\n"
     ]
    },
    {
     "name": "stderr",
     "output_type": "stream",
     "text": [
      "d:\\work\\grad\\y1s2\\capstone\\project\\roc-bike-growth\\roc_bike_growth\\paper_gt.py:23: RuntimeWarning: Couldn't reach some vertices at src/paths/unweighted.c:368\n",
      "  poi_nodes.append(G.get_shortest_paths(v, pois_indices[c:], output=\"vpath\"))\n",
      "d:\\work\\grad\\y1s2\\capstone\\project\\roc-bike-growth\\roc_bike_growth\\paper_gt.py:24: RuntimeWarning: Couldn't reach some vertices at src/paths/unweighted.c:368\n",
      "  poi_edges.append(G.get_shortest_paths(v, pois_indices[c:], output=\"epath\"))\n",
      "C:\\Users\\hoang\\miniconda3\\envs\\ox\\lib\\site-packages\\osmnx\\geocoder.py:110: FutureWarning: The frame.append method is deprecated and will be removed from pandas in a future version. Use pandas.concat instead.\n",
      "  gdf = gdf.append(_geocode_query_to_gdf(q, wr, by_osmid))\n",
      " 11%|█         | 1/9 [03:48<30:30, 228.75s/it]\n"
     ]
    },
    {
     "ename": "KeyboardInterrupt",
     "evalue": "",
     "output_type": "error",
     "traceback": [
      "\u001b[1;31m---------------------------------------------------------------------------\u001b[0m",
      "\u001b[1;31mKeyboardInterrupt\u001b[0m                         Traceback (most recent call last)",
      "\u001b[1;32md:\\work\\grad\\y1s2\\capstone\\project\\roc-bike-growth\\notebooks\\metric_testing.ipynb Cell 21'\u001b[0m in \u001b[0;36m<cell line: 5>\u001b[1;34m()\u001b[0m\n\u001b[0;32m      <a href='vscode-notebook-cell:/d%3A/work/grad/y1s2/capstone/project/roc-bike-growth/notebooks/metric_testing.ipynb#ch0000025?line=4'>5</a>\u001b[0m \u001b[39mfor\u001b[39;00m prune_f \u001b[39min\u001b[39;00m tqdm(prune_fs):\n\u001b[0;32m      <a href='vscode-notebook-cell:/d%3A/work/grad/y1s2/capstone/project/roc-bike-growth/notebooks/metric_testing.ipynb#ch0000025?line=5'>6</a>\u001b[0m     \u001b[39mfor\u001b[39;00m route_f \u001b[39min\u001b[39;00m route_fs:\n\u001b[1;32m----> <a href='vscode-notebook-cell:/d%3A/work/grad/y1s2/capstone/project/roc-bike-growth/notebooks/metric_testing.ipynb#ch0000025?line=6'>7</a>\u001b[0m         bike_map \u001b[39m=\u001b[39m BikeGraph(prune_factor\u001b[39m=\u001b[39;49mprune_f, route_factor\u001b[39m=\u001b[39;49mroute_f)\n\u001b[0;32m      <a href='vscode-notebook-cell:/d%3A/work/grad/y1s2/capstone/project/roc-bike-growth/notebooks/metric_testing.ipynb#ch0000025?line=8'>9</a>\u001b[0m         res_density \u001b[39m=\u001b[39m graph_resilience(bike_map\u001b[39m.\u001b[39mbike_graph, \u001b[39m'\u001b[39m\u001b[39mdensity\u001b[39m\u001b[39m'\u001b[39m)\n\u001b[0;32m     <a href='vscode-notebook-cell:/d%3A/work/grad/y1s2/capstone/project/roc-bike-growth/notebooks/metric_testing.ipynb#ch0000025?line=9'>10</a>\u001b[0m         res_component \u001b[39m=\u001b[39m graph_resilience(bike_map\u001b[39m.\u001b[39mbike_graph, \u001b[39m'\u001b[39m\u001b[39mlargest_component\u001b[39m\u001b[39m'\u001b[39m)\n",
      "\u001b[1;32md:\\work\\grad\\y1s2\\capstone\\project\\roc-bike-growth\\notebooks\\metric_testing.ipynb Cell 16'\u001b[0m in \u001b[0;36mBikeGraph.__init__\u001b[1;34m(self, prune_factor, route_factor)\u001b[0m\n\u001b[0;32m     <a href='vscode-notebook-cell:/d%3A/work/grad/y1s2/capstone/project/roc-bike-growth/notebooks/metric_testing.ipynb#ch0000017?line=11'>12</a>\u001b[0m \u001b[39mself\u001b[39m\u001b[39m.\u001b[39mprune_factor \u001b[39m=\u001b[39m prune_factor\n\u001b[0;32m     <a href='vscode-notebook-cell:/d%3A/work/grad/y1s2/capstone/project/roc-bike-growth/notebooks/metric_testing.ipynb#ch0000017?line=12'>13</a>\u001b[0m \u001b[39mself\u001b[39m\u001b[39m.\u001b[39mroute_factor \u001b[39m=\u001b[39m route_factor\n\u001b[1;32m---> <a href='vscode-notebook-cell:/d%3A/work/grad/y1s2/capstone/project/roc-bike-growth/notebooks/metric_testing.ipynb#ch0000017?line=13'>14</a>\u001b[0m car_infra, bike_infra \u001b[39m=\u001b[39m \u001b[39mself\u001b[39;49m\u001b[39m.\u001b[39;49mget_data()\n\u001b[0;32m     <a href='vscode-notebook-cell:/d%3A/work/grad/y1s2/capstone/project/roc-bike-growth/notebooks/metric_testing.ipynb#ch0000017?line=14'>15</a>\u001b[0m \u001b[39mself\u001b[39m\u001b[39m.\u001b[39mbike_graph \u001b[39m=\u001b[39m \u001b[39mself\u001b[39m\u001b[39m.\u001b[39mmerge_and_gt(car_infra, bike_infra)\n",
      "\u001b[1;32md:\\work\\grad\\y1s2\\capstone\\project\\roc-bike-growth\\notebooks\\metric_testing.ipynb Cell 16'\u001b[0m in \u001b[0;36mBikeGraph.get_data\u001b[1;34m(self)\u001b[0m\n\u001b[0;32m     <a href='vscode-notebook-cell:/d%3A/work/grad/y1s2/capstone/project/roc-bike-growth/notebooks/metric_testing.ipynb#ch0000017?line=17'>18</a>\u001b[0m rochester \u001b[39m=\u001b[39m ox\u001b[39m.\u001b[39mgeocode_to_gdf(\u001b[39m'\u001b[39m\u001b[39mrochester, ny\u001b[39m\u001b[39m'\u001b[39m)\u001b[39m.\u001b[39mgeometry[\u001b[39m0\u001b[39m]\n\u001b[0;32m     <a href='vscode-notebook-cell:/d%3A/work/grad/y1s2/capstone/project/roc-bike-growth/notebooks/metric_testing.ipynb#ch0000017?line=18'>19</a>\u001b[0m bike_infra \u001b[39m=\u001b[39m bike_infra_from_polygon(rochester)\n\u001b[1;32m---> <a href='vscode-notebook-cell:/d%3A/work/grad/y1s2/capstone/project/roc-bike-growth/notebooks/metric_testing.ipynb#ch0000017?line=19'>20</a>\u001b[0m car_infra \u001b[39m=\u001b[39m carall_from_polygon(rochester, add_pois\u001b[39m=\u001b[39;49m\u001b[39mTrue\u001b[39;49;00m)\n\u001b[0;32m     <a href='vscode-notebook-cell:/d%3A/work/grad/y1s2/capstone/project/roc-bike-growth/notebooks/metric_testing.ipynb#ch0000017?line=21'>22</a>\u001b[0m \u001b[39mreturn\u001b[39;00m car_infra, bike_infra\n",
      "File \u001b[1;32md:\\work\\grad\\y1s2\\capstone\\project\\roc-bike-growth\\roc_bike_growth\\loader.py:221\u001b[0m, in \u001b[0;36mcarall_from_polygon\u001b[1;34m(polygon, add_pois, fill_edge_geometry)\u001b[0m\n\u001b[0;32m    <a href='file:///d%3A/work/grad/y1s2/capstone/project/roc-bike-growth/roc_bike_growth/loader.py?line=200'>201</a>\u001b[0m \u001b[39m\"\"\"\u001b[39;00m\n\u001b[0;32m    <a href='file:///d%3A/work/grad/y1s2/capstone/project/roc-bike-growth/roc_bike_growth/loader.py?line=201'>202</a>\u001b[0m \u001b[39mDownloads network of \"driveable\" roads\u001b[39;00m\n\u001b[0;32m    <a href='file:///d%3A/work/grad/y1s2/capstone/project/roc-bike-growth/roc_bike_growth/loader.py?line=202'>203</a>\u001b[0m \n\u001b[1;32m   (...)\u001b[0m\n\u001b[0;32m    <a href='file:///d%3A/work/grad/y1s2/capstone/project/roc-bike-growth/roc_bike_growth/loader.py?line=216'>217</a>\u001b[0m \u001b[39mdriveable network within input polygon\u001b[39;00m\n\u001b[0;32m    <a href='file:///d%3A/work/grad/y1s2/capstone/project/roc-bike-growth/roc_bike_growth/loader.py?line=217'>218</a>\u001b[0m \u001b[39m\"\"\"\u001b[39;00m\n\u001b[0;32m    <a href='file:///d%3A/work/grad/y1s2/capstone/project/roc-bike-growth/roc_bike_growth/loader.py?line=219'>220</a>\u001b[0m \u001b[39mtry\u001b[39;00m:\n\u001b[1;32m--> <a href='file:///d%3A/work/grad/y1s2/capstone/project/roc-bike-growth/roc_bike_growth/loader.py?line=220'>221</a>\u001b[0m     G \u001b[39m=\u001b[39m ox\u001b[39m.\u001b[39mgraph_from_polygon(polygon, \u001b[39m*\u001b[39m\u001b[39m*\u001b[39mCONFIG\u001b[39m.\u001b[39mosm_carall_params[\u001b[39m\"\u001b[39m\u001b[39mcarall\u001b[39m\u001b[39m\"\u001b[39m])\n\u001b[0;32m    <a href='file:///d%3A/work/grad/y1s2/capstone/project/roc-bike-growth/roc_bike_growth/loader.py?line=222'>223</a>\u001b[0m     \u001b[39mif\u001b[39;00m add_pois:\n\u001b[0;32m    <a href='file:///d%3A/work/grad/y1s2/capstone/project/roc-bike-growth/roc_bike_growth/loader.py?line=223'>224</a>\u001b[0m         \u001b[39m# Download osm POIs\u001b[39;00m\n\u001b[0;32m    <a href='file:///d%3A/work/grad/y1s2/capstone/project/roc-bike-growth/roc_bike_growth/loader.py?line=224'>225</a>\u001b[0m         pois \u001b[39m=\u001b[39m download_osm_POIs(polygon)\n",
      "File \u001b[1;32m~\\miniconda3\\envs\\ox\\lib\\site-packages\\osmnx\\graph.py:432\u001b[0m, in \u001b[0;36mgraph_from_polygon\u001b[1;34m(polygon, network_type, simplify, retain_all, truncate_by_edge, clean_periphery, custom_filter)\u001b[0m\n\u001b[0;32m    <a href='file:///c%3A/Users/hoang/miniconda3/envs/ox/lib/site-packages/osmnx/graph.py?line=425'>426</a>\u001b[0m G_buff \u001b[39m=\u001b[39m _create_graph(response_jsons, retain_all\u001b[39m=\u001b[39m\u001b[39mTrue\u001b[39;00m, bidirectional\u001b[39m=\u001b[39mbidirectional)\n\u001b[0;32m    <a href='file:///c%3A/Users/hoang/miniconda3/envs/ox/lib/site-packages/osmnx/graph.py?line=427'>428</a>\u001b[0m \u001b[39m# truncate buffered graph to the buffered polygon and retain_all for\u001b[39;00m\n\u001b[0;32m    <a href='file:///c%3A/Users/hoang/miniconda3/envs/ox/lib/site-packages/osmnx/graph.py?line=428'>429</a>\u001b[0m \u001b[39m# now. needed because overpass returns entire ways that also include\u001b[39;00m\n\u001b[0;32m    <a href='file:///c%3A/Users/hoang/miniconda3/envs/ox/lib/site-packages/osmnx/graph.py?line=429'>430</a>\u001b[0m \u001b[39m# nodes outside the poly if the way (that is, a way with a single OSM\u001b[39;00m\n\u001b[0;32m    <a href='file:///c%3A/Users/hoang/miniconda3/envs/ox/lib/site-packages/osmnx/graph.py?line=430'>431</a>\u001b[0m \u001b[39m# ID) has a node inside the poly at some point.\u001b[39;00m\n\u001b[1;32m--> <a href='file:///c%3A/Users/hoang/miniconda3/envs/ox/lib/site-packages/osmnx/graph.py?line=431'>432</a>\u001b[0m G_buff \u001b[39m=\u001b[39m truncate\u001b[39m.\u001b[39;49mtruncate_graph_polygon(G_buff, poly_buff, \u001b[39mTrue\u001b[39;49;00m, truncate_by_edge)\n\u001b[0;32m    <a href='file:///c%3A/Users/hoang/miniconda3/envs/ox/lib/site-packages/osmnx/graph.py?line=433'>434</a>\u001b[0m \u001b[39m# simplify the graph topology\u001b[39;00m\n\u001b[0;32m    <a href='file:///c%3A/Users/hoang/miniconda3/envs/ox/lib/site-packages/osmnx/graph.py?line=434'>435</a>\u001b[0m \u001b[39mif\u001b[39;00m simplify:\n",
      "File \u001b[1;32m~\\miniconda3\\envs\\ox\\lib\\site-packages\\osmnx\\truncate.py:157\u001b[0m, in \u001b[0;36mtruncate_graph_polygon\u001b[1;34m(G, polygon, retain_all, truncate_by_edge, quadrat_width, min_num)\u001b[0m\n\u001b[0;32m    <a href='file:///c%3A/Users/hoang/miniconda3/envs/ox/lib/site-packages/osmnx/truncate.py?line=154'>155</a>\u001b[0m \u001b[39m# first identify all nodes whose point geometries lie within the polygon\u001b[39;00m\n\u001b[0;32m    <a href='file:///c%3A/Users/hoang/miniconda3/envs/ox/lib/site-packages/osmnx/truncate.py?line=155'>156</a>\u001b[0m gs_nodes \u001b[39m=\u001b[39m utils_graph\u001b[39m.\u001b[39mgraph_to_gdfs(G, edges\u001b[39m=\u001b[39m\u001b[39mFalse\u001b[39;00m)[[\u001b[39m\"\u001b[39m\u001b[39mgeometry\u001b[39m\u001b[39m\"\u001b[39m]]\n\u001b[1;32m--> <a href='file:///c%3A/Users/hoang/miniconda3/envs/ox/lib/site-packages/osmnx/truncate.py?line=156'>157</a>\u001b[0m to_keep \u001b[39m=\u001b[39m utils_geo\u001b[39m.\u001b[39;49m_intersect_index_quadrats(gs_nodes, polygon, quadrat_width, min_num)\n\u001b[0;32m    <a href='file:///c%3A/Users/hoang/miniconda3/envs/ox/lib/site-packages/osmnx/truncate.py?line=158'>159</a>\u001b[0m \u001b[39mif\u001b[39;00m \u001b[39mnot\u001b[39;00m to_keep:\n\u001b[0;32m    <a href='file:///c%3A/Users/hoang/miniconda3/envs/ox/lib/site-packages/osmnx/truncate.py?line=159'>160</a>\u001b[0m     \u001b[39m# no graph nodes within the polygon: can't create a graph from that\u001b[39;00m\n\u001b[0;32m    <a href='file:///c%3A/Users/hoang/miniconda3/envs/ox/lib/site-packages/osmnx/truncate.py?line=160'>161</a>\u001b[0m     \u001b[39mraise\u001b[39;00m \u001b[39mValueError\u001b[39;00m(\u001b[39m\"\u001b[39m\u001b[39mFound no graph nodes within the requested polygon\u001b[39m\u001b[39m\"\u001b[39m)\n",
      "File \u001b[1;32m~\\miniconda3\\envs\\ox\\lib\\site-packages\\osmnx\\utils_geo.py:438\u001b[0m, in \u001b[0;36m_intersect_index_quadrats\u001b[1;34m(geometries, polygon, quadrat_width, min_num)\u001b[0m\n\u001b[0;32m    <a href='file:///c%3A/Users/hoang/miniconda3/envs/ox/lib/site-packages/osmnx/utils_geo.py?line=435'>436</a>\u001b[0m         possible_matches_iloc \u001b[39m=\u001b[39m sindex\u001b[39m.\u001b[39mintersection(poly\u001b[39m.\u001b[39mbounds)\n\u001b[0;32m    <a href='file:///c%3A/Users/hoang/miniconda3/envs/ox/lib/site-packages/osmnx/utils_geo.py?line=436'>437</a>\u001b[0m         possible_matches \u001b[39m=\u001b[39m geometries\u001b[39m.\u001b[39miloc[\u001b[39mlist\u001b[39m(possible_matches_iloc)]\n\u001b[1;32m--> <a href='file:///c%3A/Users/hoang/miniconda3/envs/ox/lib/site-packages/osmnx/utils_geo.py?line=437'>438</a>\u001b[0m         precise_matches \u001b[39m=\u001b[39m possible_matches[possible_matches\u001b[39m.\u001b[39;49mintersects(poly)]\n\u001b[0;32m    <a href='file:///c%3A/Users/hoang/miniconda3/envs/ox/lib/site-packages/osmnx/utils_geo.py?line=438'>439</a>\u001b[0m         geoms_in_poly\u001b[39m.\u001b[39mupdate(precise_matches\u001b[39m.\u001b[39mindex)\n\u001b[0;32m    <a href='file:///c%3A/Users/hoang/miniconda3/envs/ox/lib/site-packages/osmnx/utils_geo.py?line=440'>441</a>\u001b[0m utils\u001b[39m.\u001b[39mlog(\u001b[39mf\u001b[39m\u001b[39m\"\u001b[39m\u001b[39mIdentified \u001b[39m\u001b[39m{\u001b[39;00m\u001b[39mlen\u001b[39m(geoms_in_poly)\u001b[39m}\u001b[39;00m\u001b[39m geometries inside polygon\u001b[39m\u001b[39m\"\u001b[39m)\n",
      "File \u001b[1;32m~\\miniconda3\\envs\\ox\\lib\\site-packages\\geopandas\\base.py:1421\u001b[0m, in \u001b[0;36mGeoPandasBase.intersects\u001b[1;34m(self, other, align)\u001b[0m\n\u001b[0;32m   <a href='file:///c%3A/Users/hoang/miniconda3/envs/ox/lib/site-packages/geopandas/base.py?line=1311'>1312</a>\u001b[0m \u001b[39mdef\u001b[39;00m \u001b[39mintersects\u001b[39m(\u001b[39mself\u001b[39m, other, align\u001b[39m=\u001b[39m\u001b[39mTrue\u001b[39;00m):\n\u001b[0;32m   <a href='file:///c%3A/Users/hoang/miniconda3/envs/ox/lib/site-packages/geopandas/base.py?line=1312'>1313</a>\u001b[0m     \u001b[39m\"\"\"Returns a ``Series`` of ``dtype('bool')`` with value ``True`` for\u001b[39;00m\n\u001b[0;32m   <a href='file:///c%3A/Users/hoang/miniconda3/envs/ox/lib/site-packages/geopandas/base.py?line=1313'>1314</a>\u001b[0m \u001b[39m    each aligned geometry that intersects `other`.\u001b[39;00m\n\u001b[0;32m   <a href='file:///c%3A/Users/hoang/miniconda3/envs/ox/lib/site-packages/geopandas/base.py?line=1314'>1315</a>\u001b[0m \n\u001b[1;32m   (...)\u001b[0m\n\u001b[0;32m   <a href='file:///c%3A/Users/hoang/miniconda3/envs/ox/lib/site-packages/geopandas/base.py?line=1418'>1419</a>\u001b[0m \u001b[39m    GeoSeries.intersection\u001b[39;00m\n\u001b[0;32m   <a href='file:///c%3A/Users/hoang/miniconda3/envs/ox/lib/site-packages/geopandas/base.py?line=1419'>1420</a>\u001b[0m \u001b[39m    \"\"\"\u001b[39;00m\n\u001b[1;32m-> <a href='file:///c%3A/Users/hoang/miniconda3/envs/ox/lib/site-packages/geopandas/base.py?line=1420'>1421</a>\u001b[0m     \u001b[39mreturn\u001b[39;00m _binary_op(\u001b[39m\"\u001b[39;49m\u001b[39mintersects\u001b[39;49m\u001b[39m\"\u001b[39;49m, \u001b[39mself\u001b[39;49m, other, align)\n",
      "File \u001b[1;32m~\\miniconda3\\envs\\ox\\lib\\site-packages\\geopandas\\base.py:59\u001b[0m, in \u001b[0;36m_binary_op\u001b[1;34m(op, this, other, align, *args, **kwargs)\u001b[0m\n\u001b[0;32m     <a href='file:///c%3A/Users/hoang/miniconda3/envs/ox/lib/site-packages/geopandas/base.py?line=55'>56</a>\u001b[0m \u001b[39mdef\u001b[39;00m \u001b[39m_binary_op\u001b[39m(op, this, other, align, \u001b[39m*\u001b[39margs, \u001b[39m*\u001b[39m\u001b[39m*\u001b[39mkwargs):\n\u001b[0;32m     <a href='file:///c%3A/Users/hoang/miniconda3/envs/ox/lib/site-packages/geopandas/base.py?line=56'>57</a>\u001b[0m     \u001b[39m# type: (str, GeoSeries, GeoSeries, args/kwargs) -> Series[bool/float]\u001b[39;00m\n\u001b[0;32m     <a href='file:///c%3A/Users/hoang/miniconda3/envs/ox/lib/site-packages/geopandas/base.py?line=57'>58</a>\u001b[0m     \u001b[39m\"\"\"Binary operation on GeoSeries objects that returns a Series\"\"\"\u001b[39;00m\n\u001b[1;32m---> <a href='file:///c%3A/Users/hoang/miniconda3/envs/ox/lib/site-packages/geopandas/base.py?line=58'>59</a>\u001b[0m     data, index \u001b[39m=\u001b[39m _delegate_binary_method(op, this, other, align, \u001b[39m*\u001b[39margs, \u001b[39m*\u001b[39m\u001b[39m*\u001b[39mkwargs)\n\u001b[0;32m     <a href='file:///c%3A/Users/hoang/miniconda3/envs/ox/lib/site-packages/geopandas/base.py?line=59'>60</a>\u001b[0m     \u001b[39mreturn\u001b[39;00m Series(data, index\u001b[39m=\u001b[39mindex)\n",
      "File \u001b[1;32m~\\miniconda3\\envs\\ox\\lib\\site-packages\\geopandas\\base.py:43\u001b[0m, in \u001b[0;36m_delegate_binary_method\u001b[1;34m(op, this, other, align, *args, **kwargs)\u001b[0m\n\u001b[0;32m     <a href='file:///c%3A/Users/hoang/miniconda3/envs/ox/lib/site-packages/geopandas/base.py?line=39'>40</a>\u001b[0m \u001b[39melse\u001b[39;00m:\n\u001b[0;32m     <a href='file:///c%3A/Users/hoang/miniconda3/envs/ox/lib/site-packages/geopandas/base.py?line=40'>41</a>\u001b[0m     \u001b[39mraise\u001b[39;00m \u001b[39mTypeError\u001b[39;00m(\u001b[39mtype\u001b[39m(this), \u001b[39mtype\u001b[39m(other))\n\u001b[1;32m---> <a href='file:///c%3A/Users/hoang/miniconda3/envs/ox/lib/site-packages/geopandas/base.py?line=42'>43</a>\u001b[0m data \u001b[39m=\u001b[39m \u001b[39mgetattr\u001b[39m(a_this, op)(other, \u001b[39m*\u001b[39margs, \u001b[39m*\u001b[39m\u001b[39m*\u001b[39mkwargs)\n\u001b[0;32m     <a href='file:///c%3A/Users/hoang/miniconda3/envs/ox/lib/site-packages/geopandas/base.py?line=43'>44</a>\u001b[0m \u001b[39mreturn\u001b[39;00m data, this\u001b[39m.\u001b[39mindex\n",
      "File \u001b[1;32m~\\miniconda3\\envs\\ox\\lib\\site-packages\\geopandas\\array.py:546\u001b[0m, in \u001b[0;36mGeometryArray.intersects\u001b[1;34m(self, other)\u001b[0m\n\u001b[0;32m    <a href='file:///c%3A/Users/hoang/miniconda3/envs/ox/lib/site-packages/geopandas/array.py?line=544'>545</a>\u001b[0m \u001b[39mdef\u001b[39;00m \u001b[39mintersects\u001b[39m(\u001b[39mself\u001b[39m, other):\n\u001b[1;32m--> <a href='file:///c%3A/Users/hoang/miniconda3/envs/ox/lib/site-packages/geopandas/array.py?line=545'>546</a>\u001b[0m     \u001b[39mreturn\u001b[39;00m \u001b[39mself\u001b[39;49m\u001b[39m.\u001b[39;49m_binary_method(\u001b[39m\"\u001b[39;49m\u001b[39mintersects\u001b[39;49m\u001b[39m\"\u001b[39;49m, \u001b[39mself\u001b[39;49m, other)\n",
      "File \u001b[1;32m~\\miniconda3\\envs\\ox\\lib\\site-packages\\geopandas\\array.py:525\u001b[0m, in \u001b[0;36mGeometryArray._binary_method\u001b[1;34m(op, left, right, **kwargs)\u001b[0m\n\u001b[0;32m    <a href='file:///c%3A/Users/hoang/miniconda3/envs/ox/lib/site-packages/geopandas/array.py?line=521'>522</a>\u001b[0m         _crs_mismatch_warn(left, right, stacklevel\u001b[39m=\u001b[39m\u001b[39m7\u001b[39m)\n\u001b[0;32m    <a href='file:///c%3A/Users/hoang/miniconda3/envs/ox/lib/site-packages/geopandas/array.py?line=522'>523</a>\u001b[0m     right \u001b[39m=\u001b[39m right\u001b[39m.\u001b[39mdata\n\u001b[1;32m--> <a href='file:///c%3A/Users/hoang/miniconda3/envs/ox/lib/site-packages/geopandas/array.py?line=524'>525</a>\u001b[0m \u001b[39mreturn\u001b[39;00m \u001b[39mgetattr\u001b[39m(vectorized, op)(left\u001b[39m.\u001b[39mdata, right, \u001b[39m*\u001b[39m\u001b[39m*\u001b[39mkwargs)\n",
      "File \u001b[1;32m~\\miniconda3\\envs\\ox\\lib\\site-packages\\geopandas\\_vectorized.py:688\u001b[0m, in \u001b[0;36mintersects\u001b[1;34m(data, other)\u001b[0m\n\u001b[0;32m    <a href='file:///c%3A/Users/hoang/miniconda3/envs/ox/lib/site-packages/geopandas/_vectorized.py?line=685'>686</a>\u001b[0m     \u001b[39mreturn\u001b[39;00m _binary_method(\u001b[39m\"\u001b[39m\u001b[39mintersects\u001b[39m\u001b[39m\"\u001b[39m, data, other)\n\u001b[0;32m    <a href='file:///c%3A/Users/hoang/miniconda3/envs/ox/lib/site-packages/geopandas/_vectorized.py?line=686'>687</a>\u001b[0m \u001b[39melse\u001b[39;00m:\n\u001b[1;32m--> <a href='file:///c%3A/Users/hoang/miniconda3/envs/ox/lib/site-packages/geopandas/_vectorized.py?line=687'>688</a>\u001b[0m     \u001b[39mreturn\u001b[39;00m _binary_predicate(\u001b[39m\"\u001b[39;49m\u001b[39mintersects\u001b[39;49m\u001b[39m\"\u001b[39;49m, data, other)\n",
      "File \u001b[1;32m~\\miniconda3\\envs\\ox\\lib\\site-packages\\geopandas\\_vectorized.py:340\u001b[0m, in \u001b[0;36m_binary_predicate\u001b[1;34m(op, left, right, *args, **kwargs)\u001b[0m\n\u001b[0;32m    <a href='file:///c%3A/Users/hoang/miniconda3/envs/ox/lib/site-packages/geopandas/_vectorized.py?line=337'>338</a>\u001b[0m \u001b[39m# empty geometries are handled by shapely (all give False except disjoint)\u001b[39;00m\n\u001b[0;32m    <a href='file:///c%3A/Users/hoang/miniconda3/envs/ox/lib/site-packages/geopandas/_vectorized.py?line=338'>339</a>\u001b[0m \u001b[39mif\u001b[39;00m \u001b[39misinstance\u001b[39m(right, BaseGeometry):\n\u001b[1;32m--> <a href='file:///c%3A/Users/hoang/miniconda3/envs/ox/lib/site-packages/geopandas/_vectorized.py?line=339'>340</a>\u001b[0m     data \u001b[39m=\u001b[39m [\n\u001b[0;32m    <a href='file:///c%3A/Users/hoang/miniconda3/envs/ox/lib/site-packages/geopandas/_vectorized.py?line=340'>341</a>\u001b[0m         \u001b[39mgetattr\u001b[39m(s, op)(right, \u001b[39m*\u001b[39margs, \u001b[39m*\u001b[39m\u001b[39m*\u001b[39mkwargs) \u001b[39mif\u001b[39;00m s \u001b[39mis\u001b[39;00m \u001b[39mnot\u001b[39;00m \u001b[39mNone\u001b[39;00m \u001b[39melse\u001b[39;00m \u001b[39mFalse\u001b[39;00m\n\u001b[0;32m    <a href='file:///c%3A/Users/hoang/miniconda3/envs/ox/lib/site-packages/geopandas/_vectorized.py?line=341'>342</a>\u001b[0m         \u001b[39mfor\u001b[39;00m s \u001b[39min\u001b[39;00m left\n\u001b[0;32m    <a href='file:///c%3A/Users/hoang/miniconda3/envs/ox/lib/site-packages/geopandas/_vectorized.py?line=342'>343</a>\u001b[0m     ]\n\u001b[0;32m    <a href='file:///c%3A/Users/hoang/miniconda3/envs/ox/lib/site-packages/geopandas/_vectorized.py?line=343'>344</a>\u001b[0m     \u001b[39mreturn\u001b[39;00m np\u001b[39m.\u001b[39marray(data, dtype\u001b[39m=\u001b[39m\u001b[39mbool\u001b[39m)\n\u001b[0;32m    <a href='file:///c%3A/Users/hoang/miniconda3/envs/ox/lib/site-packages/geopandas/_vectorized.py?line=344'>345</a>\u001b[0m \u001b[39melif\u001b[39;00m \u001b[39misinstance\u001b[39m(right, np\u001b[39m.\u001b[39mndarray):\n",
      "File \u001b[1;32m~\\miniconda3\\envs\\ox\\lib\\site-packages\\geopandas\\_vectorized.py:341\u001b[0m, in \u001b[0;36m<listcomp>\u001b[1;34m(.0)\u001b[0m\n\u001b[0;32m    <a href='file:///c%3A/Users/hoang/miniconda3/envs/ox/lib/site-packages/geopandas/_vectorized.py?line=337'>338</a>\u001b[0m \u001b[39m# empty geometries are handled by shapely (all give False except disjoint)\u001b[39;00m\n\u001b[0;32m    <a href='file:///c%3A/Users/hoang/miniconda3/envs/ox/lib/site-packages/geopandas/_vectorized.py?line=338'>339</a>\u001b[0m \u001b[39mif\u001b[39;00m \u001b[39misinstance\u001b[39m(right, BaseGeometry):\n\u001b[0;32m    <a href='file:///c%3A/Users/hoang/miniconda3/envs/ox/lib/site-packages/geopandas/_vectorized.py?line=339'>340</a>\u001b[0m     data \u001b[39m=\u001b[39m [\n\u001b[1;32m--> <a href='file:///c%3A/Users/hoang/miniconda3/envs/ox/lib/site-packages/geopandas/_vectorized.py?line=340'>341</a>\u001b[0m         \u001b[39mgetattr\u001b[39m(s, op)(right, \u001b[39m*\u001b[39margs, \u001b[39m*\u001b[39m\u001b[39m*\u001b[39mkwargs) \u001b[39mif\u001b[39;00m s \u001b[39mis\u001b[39;00m \u001b[39mnot\u001b[39;00m \u001b[39mNone\u001b[39;00m \u001b[39melse\u001b[39;00m \u001b[39mFalse\u001b[39;00m\n\u001b[0;32m    <a href='file:///c%3A/Users/hoang/miniconda3/envs/ox/lib/site-packages/geopandas/_vectorized.py?line=341'>342</a>\u001b[0m         \u001b[39mfor\u001b[39;00m s \u001b[39min\u001b[39;00m left\n\u001b[0;32m    <a href='file:///c%3A/Users/hoang/miniconda3/envs/ox/lib/site-packages/geopandas/_vectorized.py?line=342'>343</a>\u001b[0m     ]\n\u001b[0;32m    <a href='file:///c%3A/Users/hoang/miniconda3/envs/ox/lib/site-packages/geopandas/_vectorized.py?line=343'>344</a>\u001b[0m     \u001b[39mreturn\u001b[39;00m np\u001b[39m.\u001b[39marray(data, dtype\u001b[39m=\u001b[39m\u001b[39mbool\u001b[39m)\n\u001b[0;32m    <a href='file:///c%3A/Users/hoang/miniconda3/envs/ox/lib/site-packages/geopandas/_vectorized.py?line=344'>345</a>\u001b[0m \u001b[39melif\u001b[39;00m \u001b[39misinstance\u001b[39m(right, np\u001b[39m.\u001b[39mndarray):\n",
      "File \u001b[1;32m~\\miniconda3\\envs\\ox\\lib\\site-packages\\shapely\\geometry\\base.py:799\u001b[0m, in \u001b[0;36mBaseGeometry.intersects\u001b[1;34m(self, other)\u001b[0m\n\u001b[0;32m    <a href='file:///c%3A/Users/hoang/miniconda3/envs/ox/lib/site-packages/shapely/geometry/base.py?line=796'>797</a>\u001b[0m \u001b[39mdef\u001b[39;00m \u001b[39mintersects\u001b[39m(\u001b[39mself\u001b[39m, other):\n\u001b[0;32m    <a href='file:///c%3A/Users/hoang/miniconda3/envs/ox/lib/site-packages/shapely/geometry/base.py?line=797'>798</a>\u001b[0m     \u001b[39m\"\"\"Returns True if geometries intersect, else False\"\"\"\u001b[39;00m\n\u001b[1;32m--> <a href='file:///c%3A/Users/hoang/miniconda3/envs/ox/lib/site-packages/shapely/geometry/base.py?line=798'>799</a>\u001b[0m     \u001b[39mreturn\u001b[39;00m \u001b[39mbool\u001b[39m(\u001b[39mself\u001b[39;49m\u001b[39m.\u001b[39;49mimpl[\u001b[39m'\u001b[39;49m\u001b[39mintersects\u001b[39;49m\u001b[39m'\u001b[39;49m](\u001b[39mself\u001b[39;49m, other))\n",
      "File \u001b[1;32m~\\miniconda3\\envs\\ox\\lib\\site-packages\\shapely\\predicates.py:15\u001b[0m, in \u001b[0;36mBinaryPredicate.__call__\u001b[1;34m(self, this, other, *args)\u001b[0m\n\u001b[0;32m     <a href='file:///c%3A/Users/hoang/miniconda3/envs/ox/lib/site-packages/shapely/predicates.py?line=12'>13</a>\u001b[0m \u001b[39mself\u001b[39m\u001b[39m.\u001b[39m_validate(other, stop_prepared\u001b[39m=\u001b[39m\u001b[39mTrue\u001b[39;00m)\n\u001b[0;32m     <a href='file:///c%3A/Users/hoang/miniconda3/envs/ox/lib/site-packages/shapely/predicates.py?line=13'>14</a>\u001b[0m \u001b[39mtry\u001b[39;00m:\n\u001b[1;32m---> <a href='file:///c%3A/Users/hoang/miniconda3/envs/ox/lib/site-packages/shapely/predicates.py?line=14'>15</a>\u001b[0m     \u001b[39mreturn\u001b[39;00m \u001b[39mself\u001b[39;49m\u001b[39m.\u001b[39;49mfn(this\u001b[39m.\u001b[39;49m_geom, other\u001b[39m.\u001b[39;49m_geom, \u001b[39m*\u001b[39;49margs)\n\u001b[0;32m     <a href='file:///c%3A/Users/hoang/miniconda3/envs/ox/lib/site-packages/shapely/predicates.py?line=15'>16</a>\u001b[0m \u001b[39mexcept\u001b[39;00m PredicateError \u001b[39mas\u001b[39;00m err:\n\u001b[0;32m     <a href='file:///c%3A/Users/hoang/miniconda3/envs/ox/lib/site-packages/shapely/predicates.py?line=16'>17</a>\u001b[0m     \u001b[39m# Dig deeper into causes of errors.\u001b[39;00m\n\u001b[0;32m     <a href='file:///c%3A/Users/hoang/miniconda3/envs/ox/lib/site-packages/shapely/predicates.py?line=17'>18</a>\u001b[0m     \u001b[39mself\u001b[39m\u001b[39m.\u001b[39m_check_topology(err, this, other)\n",
      "File \u001b[1;32m~\\miniconda3\\envs\\ox\\lib\\site-packages\\shapely\\geos.py:573\u001b[0m, in \u001b[0;36merrcheck_predicate\u001b[1;34m(result, func, argtuple)\u001b[0m\n\u001b[0;32m    <a href='file:///c%3A/Users/hoang/miniconda3/envs/ox/lib/site-packages/shapely/geos.py?line=565'>566</a>\u001b[0m         \u001b[39mraise\u001b[39;00m TopologicalError(\n\u001b[0;32m    <a href='file:///c%3A/Users/hoang/miniconda3/envs/ox/lib/site-packages/shapely/geos.py?line=566'>567</a>\u001b[0m             \u001b[39m\"\u001b[39m\u001b[39mThe operation \u001b[39m\u001b[39m'\u001b[39m\u001b[39m{}\u001b[39;00m\u001b[39m'\u001b[39m\u001b[39m could not be performed.\u001b[39m\u001b[39m\"\u001b[39m\n\u001b[0;32m    <a href='file:///c%3A/Users/hoang/miniconda3/envs/ox/lib/site-packages/shapely/geos.py?line=567'>568</a>\u001b[0m             \u001b[39m\"\u001b[39m\u001b[39mLikely cause is invalidity of the geometry.\u001b[39m\u001b[39m\"\u001b[39m\u001b[39m.\u001b[39mformat(\n\u001b[0;32m    <a href='file:///c%3A/Users/hoang/miniconda3/envs/ox/lib/site-packages/shapely/geos.py?line=568'>569</a>\u001b[0m                 func\u001b[39m.\u001b[39m\u001b[39m__name__\u001b[39m))\n\u001b[0;32m    <a href='file:///c%3A/Users/hoang/miniconda3/envs/ox/lib/site-packages/shapely/geos.py?line=569'>570</a>\u001b[0m     \u001b[39mreturn\u001b[39;00m errcheck_just_free(result, func, argtuple)\n\u001b[1;32m--> <a href='file:///c%3A/Users/hoang/miniconda3/envs/ox/lib/site-packages/shapely/geos.py?line=572'>573</a>\u001b[0m \u001b[39mdef\u001b[39;00m \u001b[39merrcheck_predicate\u001b[39m(result, func, argtuple):\n\u001b[0;32m    <a href='file:///c%3A/Users/hoang/miniconda3/envs/ox/lib/site-packages/shapely/geos.py?line=573'>574</a>\u001b[0m     \u001b[39m\"\"\"Result is 2 on exception, 1 on True, 0 on False\"\"\"\u001b[39;00m\n\u001b[0;32m    <a href='file:///c%3A/Users/hoang/miniconda3/envs/ox/lib/site-packages/shapely/geos.py?line=574'>575</a>\u001b[0m     \u001b[39mif\u001b[39;00m result \u001b[39m==\u001b[39m \u001b[39m2\u001b[39m:\n",
      "\u001b[1;31mKeyboardInterrupt\u001b[0m: "
     ]
    }
   ],
   "source": [
    "data = []\n",
    "\n",
    "prune_fs = np.arange(0.1, 1, 0.1)\n",
    "route_fs = np.arange(0.1, 1, 0.1)\n",
    "for prune_f in tqdm(prune_fs):\n",
    "    for route_f in route_fs:\n",
    "        bike_map = BikeGraph(prune_factor=prune_f, route_factor=route_f)\n",
    "        \n",
    "        res_density = graph_resilience(bike_map.bike_graph, 'density')\n",
    "        res_component = graph_resilience(bike_map.bike_graph, 'largest_component')\n",
    "        coverage = paper_coverage(bike_map.bike_graph)\n",
    "        cohesion = graph_cohesion(bike_map.bike_graph, coverage)\n",
    "        global_eff = paper_global_efficiency(bike_map.bike_graph)\n",
    "        local_eff = paper_local_efficiency(bike_map.bike_graph)\n",
    "        \n",
    "        data.append({\n",
    "            'prune_f': prune_f,\n",
    "            'route_f': route_f,\n",
    "            'res_density': res_density,\n",
    "            'res_component': res_component,\n",
    "            'coverage': coverage,\n",
    "            'cohesion': cohesion,\n",
    "            'global_eff': global_eff/100,\n",
    "            'local_eff': local_eff/100\n",
    "        })\n",
    "        \n",
    "with open('output\\\\results.json', 'w') as f:\n",
    "    json.dump(data, f)\n"
   ]
  },
  {
   "cell_type": "code",
   "execution_count": null,
   "metadata": {},
   "outputs": [],
   "source": []
  }
 ],
 "metadata": {
  "interpreter": {
   "hash": "c2aa4ef88a60d511689f4f8de835e153dc4058a6f3d8ffa213cd6f60262bac7e"
  },
  "kernelspec": {
   "display_name": "Python 3.10.4 ('ox')",
   "language": "python",
   "name": "python3"
  },
  "language_info": {
   "codemirror_mode": {
    "name": "ipython",
    "version": 3
   },
   "file_extension": ".py",
   "mimetype": "text/x-python",
   "name": "python",
   "nbconvert_exporter": "python",
   "pygments_lexer": "ipython3",
   "version": "3.10.4"
  },
  "orig_nbformat": 4
 },
 "nbformat": 4,
 "nbformat_minor": 2
}
