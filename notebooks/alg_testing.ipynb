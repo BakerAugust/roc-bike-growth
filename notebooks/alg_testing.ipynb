{
 "cells": [
  {
   "cell_type": "code",
   "execution_count": 1,
   "id": "80454273-7eaf-4734-baf8-ec0a693a060e",
   "metadata": {},
   "outputs": [],
   "source": [
    "import networkx as nx\n",
    "import osmnx as ox\n",
    "import random\n",
    "import copy\n",
    "import igraph as ig\n",
    "import numpy as np\n",
    "import math\n",
    "import random\n",
    "import time\n",
    "import pickle as pk"
   ]
  },
  {
   "cell_type": "code",
   "execution_count": 2,
   "id": "39b7e97e-18cc-48a2-8d90-da6ecf36421d",
   "metadata": {
    "tags": []
   },
   "outputs": [],
   "source": [
    "#Algorithm the same as the one in their code with some unnessecary bits  removed. \n",
    "#Enumerates all of the connections between points of interest in graph and sums over their weights\n",
    "def get_poipairs_by_distance(G, pois_indices):\n",
    "    # Get sequences of nodes and edges in shortest paths between all pairs of pois\n",
    "    poi_nodes = []\n",
    "    poi_edges = []\n",
    "    for c, v in enumerate(pois_indices):\n",
    "        # Possible cost parameters we could add to weight could be calculated here. \n",
    "        #We'd have to implement a \"get shortest paths  weighted on accident data etc.\" \n",
    "        # could also include node weights \n",
    "        poi_nodes.append(G.get_shortest_paths(v, pois_indices[c:], output = \"vpath\"))\n",
    "        poi_edges.append(G.get_shortest_paths(v, pois_indices[c:], output = \"epath\"))\n",
    "\n",
    "    # Sum up weights (distances) of all paths\n",
    "    poi_dist = {}\n",
    "    for paths_n, paths_e in zip(poi_nodes, poi_edges):\n",
    "        for path_n, path_e in zip(paths_n, paths_e):\n",
    "            # Sum up distances of path segments from first to last node\n",
    "            #would have to use distances incorporating parameters if we were to use them here. \n",
    "            path_dist = sum([G.es[e]['weight'] for e in path_e])\n",
    "            if path_dist > 0:\n",
    "                poi_dist[(path_n[0],path_n[-1])] = path_dist\n",
    "\n",
    "    temp = sorted(poi_dist.items(), key = lambda x: x[1])\n",
    "    # Back to ids\n",
    "    poipairs = []\n",
    "    for p in temp:\n",
    "        poipairs.append([(G.vs[p[0][0]][\"id\"], G.vs[p[0][1]][\"id\"]), p[1]])\n",
    "\n",
    "    return poipairs"
   ]
  },
  {
   "cell_type": "code",
   "execution_count": 3,
   "id": "2bb440be-745e-4c6e-9e61-f2fb17222952",
   "metadata": {
    "tags": []
   },
   "outputs": [],
   "source": [
    "def greedy_triangulation(GT, poipairs, prune_factor = 1, prune_measure = \"betweenness\"):\n",
    "    for poipair, poipair_distance in poipairs:\n",
    "            try:\n",
    "                poipair_ind = (GT.vs.find(id = poipair[0]).index, GT.vs.find(id = poipair[1]).index)\n",
    "            except:\n",
    "                print(poipair)\n",
    "                for v in GT.vs:\n",
    "                    print(v['id'])\n",
    "                \n",
    "            if not new_edge_intersects(GT, (GT.vs[poipair_ind[0]][\"x\"], GT.vs[poipair_ind[0]][\"y\"], GT.vs[poipair_ind[1]][\"x\"], GT.vs[poipair_ind[1]][\"y\"])):\n",
    "                GT.add_edge(poipair_ind[0], poipair_ind[1], weight = poipair_distance)\n",
    "\n",
    "        # Get the measure for pruning\n",
    "    #if prune_measure == \"betweenness\":\n",
    "    BW = GT.edge_betweenness(directed = False, weights = \"weight\")\n",
    "    #here is where we can include some other attributes: for instance BW = betweenness/log(accident likelihood)\n",
    "    qt = np.quantile(BW, 1-prune_factor)\n",
    "    sub_edges = []\n",
    "    for c, e in enumerate(GT.es):\n",
    "        if BW[c] >= qt: \n",
    "            sub_edges.append(c)\n",
    "            #we only keep edge c if it is in the pf percentile of edges in our metric (0 = no edges, 1 = all edges from GT)\n",
    "        GT.es[c][\"bw\"] = BW[c]\n",
    "        GT.es[c][\"width\"] = math.sqrt(BW[c]+1)*0.5\n",
    "    GT = GT.subgraph_edges(sub_edges)\n",
    "    return GT\n"
   ]
  },
  {
   "cell_type": "code",
   "execution_count": 4,
   "id": "f266ac57-6d2b-471d-9e01-73c118c05f55",
   "metadata": {},
   "outputs": [],
   "source": [
    " # Get node pairs we need to route, sorted by distance\n",
    "# allows us to only includ relevant pairs in \n",
    "def route_node_pairs(GT):\n",
    "    routenodepairs = {}\n",
    "    for e in GT.es:\n",
    "        routenodepairs[(e.source_vertex[\"id\"], e.target_vertex[\"id\"])] = e[\"weight\"]\n",
    "    routenodepairs = sorted(routenodepairs.items(), key = lambda x: x[1])\n",
    "\n",
    "    # Do the routing\n",
    "    GT_indices = set()\n",
    "    for poipair, poipair_distance in routenodepairs:\n",
    "        poipair_ind = (G.vs.find(id = poipair[0]).index, G.vs.find(id = poipair[1]).index)\n",
    "        sp = set(G.get_shortest_paths(poipair_ind[0], poipair_ind[1], weights = \"weight\", output = \"vpath\")[0])\n",
    "        GT_indices = GT_indices.union(sp)\n",
    "\n",
    "    GT_final = G.induced_subgraph(GT_indices)\n",
    "    return GT_final"
   ]
  },
  {
   "cell_type": "code",
   "execution_count": 5,
   "id": "f02035ab-70e9-4ae3-9c12-62decc05cefe",
   "metadata": {},
   "outputs": [],
   "source": [
    "#the below classes are ripped from the code. its an intersection function which could probably be optimized better but it definitely works :)\n",
    "class MyPoint:\n",
    "    def __init__(self,x,y):\n",
    "        self.x = x\n",
    "        self.y = y"
   ]
  },
  {
   "cell_type": "code",
   "execution_count": 6,
   "id": "b0d68153-8ab7-45c1-b073-301708e0ab2b",
   "metadata": {},
   "outputs": [],
   "source": [
    "def new_edge_intersects(G, enew):\n",
    "    \"\"\"Given a graph G and a potential new edge enew,\n",
    "    check if enew will intersect any old edge.\n",
    "    \"\"\"\n",
    "    E1 = MyPoint(enew[0], enew[1])\n",
    "    E2 = MyPoint(enew[2], enew[3])\n",
    "    for e in G.es():\n",
    "        O1 = MyPoint(e.source_vertex[\"x\"], e.source_vertex[\"y\"])\n",
    "        O2 = MyPoint(e.target_vertex[\"x\"], e.target_vertex[\"y\"])\n",
    "        if segments_intersect(E1, E2, O1, O2):\n",
    "            return True\n",
    "    return False"
   ]
  },
  {
   "cell_type": "code",
   "execution_count": 7,
   "id": "43c10467-2fdf-4452-a7cf-0ac6bff101b4",
   "metadata": {},
   "outputs": [],
   "source": [
    "def segments_intersect(A,B,C,D):\n",
    "    \"\"\"Check if two line segments intersect (except for colinearity)\n",
    "    Returns true if line segments AB and CD intersect properly.\n",
    "    Adapted from: https://stackoverflow.com/questions/3838329/how-can-i-check-if-two-segments-intersect\n",
    "    \"\"\"\n",
    "    if (A.x == C.x and A.y == C.y) or (A.x == D.x and A.y == D.y) or (B.x == C.x and B.y == C.y) or (B.x == D.x and B.y == D.y): return False # If the segments share an endpoint they do not intersect properly\n",
    "    return ccw(A,C,D) != ccw(B,C,D) and ccw(A,B,C) != ccw(A,B,D)\n",
    "\n",
    "def ccw(A,B,C):\n",
    "    return (C.y-A.y) * (B.x-A.x) > (B.y-A.y) * (C.x-A.x)"
   ]
  },
  {
   "cell_type": "code",
   "execution_count": 8,
   "id": "8bb21154-947f-422c-a15b-ea1c39935fd6",
   "metadata": {},
   "outputs": [],
   "source": [
    "#craete a deepcopy of the original graph with no edges\n",
    "\n",
    "#def greedy_triangulation_subgraph(G, pois_indices = [], pois_method = pass):\n",
    "def gt_from_scratch(G, num_pois, prune_factor = 1):\n",
    "    pois_indices =  random.sample(range(1, len(G.vs)-1), num_pois)\n",
    "    #pois_indices = list(range(0,num_pois))\n",
    "    #pois_indices =  [100,1000,5000,9,10,15,250,60,150]\n",
    "    #print(pois_indices)\n",
    "    G_temp = copy.deepcopy(G)\n",
    "    for e in G_temp.es: # delete all edges\n",
    "        G_temp.es.delete(e)\n",
    "    GT = copy.deepcopy(G_temp.subgraph(set(pois_indices)))\n",
    "    poipairs = get_poipairs_by_distance(G, pois_indices)\n",
    "    #print(poipairs)\n",
    "    GT = greedy_triangulation(GT, poipairs)\n",
    "    GT_final = route_node_pairs(GT)\n",
    "    return GT_final\n"
   ]
  },
  {
   "cell_type": "code",
   "execution_count": 9,
   "id": "d764b241-56ee-44df-86a0-062799384064",
   "metadata": {},
   "outputs": [],
   "source": [
    "#runs the function n  times on graph G with num_pois random pois returns a \n",
    "def run_X_times(G, num_pois, n = 10):\n",
    "    times = []\n",
    "    for i in range(n):\n",
    "        start_time = time.time()\n",
    "        GT_final = gt_from_scratch(G, num_pois)\n",
    "        times.append(time.time() - start_time)\n",
    "    return times\n",
    "\n"
   ]
  },
  {
   "cell_type": "code",
   "execution_count": 12,
   "id": "2ce7b57d-6e44-4e85-8810-b6cfe5415122",
   "metadata": {
    "tags": []
   },
   "outputs": [
    {
     "data": {
      "text/plain": [
       "'IGRAPH D-W- 2995 6501 -- \\n+ attr: created_date (g), created_with (g), crs (g), simplified (g), _nx_name (v), highway (v), id (v), street_count (v), x (v), y (v), access (e), bridge (e), geometry (e), highway (e), junction (e), lanes (e), length (e), maxspeed (e), name (e), oneway (e), osmid (e), ref (e), service (e), tunnel (e), weight (e), width (e)'"
      ]
     },
     "execution_count": 12,
     "metadata": {},
     "output_type": "execute_result"
    }
   ],
   "source": [
    "gdf = ox.geocode_to_gdf('rochester, ny')\n",
    "#running on the osmnx graph with random pois for now\n",
    "g  = ox.graph_from_polygon(gdf.geometry[0], network_type='bike')\n",
    "G = ig.Graph.from_networkx(g)\n",
    "for e in G.es:\n",
    "    e['weight'] = e['length']\n",
    "for i,v in enumerate(G.vs):\n",
    "    v['id'] = i\n",
    "generated_network = gt_from_scratch(G, 100, prune_factor = 0.8)\n",
    "generated_network.summary()"
   ]
  },
  {
   "cell_type": "code",
   "execution_count": null,
   "id": "0cbd3148-4f31-4111-b61d-63aca75f39b3",
   "metadata": {
    "tags": []
   },
   "outputs": [],
   "source": [
    "pois_times = []\n",
    "poi_n = [25, 50, 100, 200, 500]"
   ]
  },
  {
   "cell_type": "code",
   "execution_count": null,
   "id": "2f34cdd7-73f8-4185-b62f-41be6b7cbc7e",
   "metadata": {
    "tags": []
   },
   "outputs": [],
   "source": [
    "for k in poi_n:\n",
    "    pois_times.append(run_X_times(G,k,10)\n"
   ]
  },
  {
   "cell_type": "code",
   "execution_count": null,
   "id": "a7125a07-4645-47e8-b13b-53c52f225b5d",
   "metadata": {},
   "outputs": [],
   "source": [
    "#don't have the file so i pasted them in\n",
    "pois_times = [[5.153523921966553, 4.872383117675781, 4.866201639175415, 4.955097675323486, 5.004591226577759, 4.924658298492432, 4.913832664489746, 5.051943302154541, 4.952014446258545, 4.905686140060425]\n",
    ",[6.655368089675903, 6.430932283401489, 6.5818564891815186, 6.896301984786987, 6.660094261169434, 8.36094045639038, 7.3024561405181885, 6.674937963485718, 6.336331367492676, 6.501245498657227]\n",
    ",[13.96689510345459, 14.894343614578247, 14.307453870773315, 14.952030658721924, 14.426907062530518, 13.900016069412231, 14.777370691299438, 14.391879320144653, 13.256445169448853, 13.320914506912231]\n",
    ",[48.347018241882324, 48.39953899383545, 52.27925515174866, 49.574729681015015, 47.71937704086304, 49.62196326255798, 47.58820390701294, 46.4927773475647, 51.84807276725769, 49.06229782104492]\n",
    ",[498.2538764476776, 499.85614013671875, 509.4761872291565, 471.96419978141785, 467.4112243652344, 479.4652645587921, 498.9530463218689, 493.69329023361206, 481.68253087997437, 467.08037400245667]]"
   ]
  },
  {
   "cell_type": "code",
   "execution_count": null,
   "id": "f1fc0ebc-5bd0-47c9-bebf-911d53e9285e",
   "metadata": {},
   "outputs": [],
   "source": [
    "import matplotlib.pyplot as plt\n",
    "means = [np.mean(times) for times in pois_times]\n",
    "plt.scatter(poi_n, means)\n",
    "plt.xlabel('Number of POIs')\n",
    "plt.ylabel('Time')\n",
    "plt.show()"
   ]
  }
 ],
 "metadata": {
  "kernelspec": {
   "display_name": "Python (ox)",
   "language": "python",
   "name": "ox"
  },
  "language_info": {
   "codemirror_mode": {
    "name": "ipython",
    "version": 3
   },
   "file_extension": ".py",
   "mimetype": "text/x-python",
   "name": "python",
   "nbconvert_exporter": "python",
   "pygments_lexer": "ipython3",
   "version": "3.9.7"
  }
 },
 "nbformat": 4,
 "nbformat_minor": 5
}
